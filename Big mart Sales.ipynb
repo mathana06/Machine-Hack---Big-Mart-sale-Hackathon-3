{
 "cells": [
  {
   "cell_type": "code",
   "execution_count": 1,
   "id": "64dc9c2d",
   "metadata": {},
   "outputs": [],
   "source": [
    "import numpy as np\n",
    "import pandas as pd\n",
    "import matplotlib.pyplot as plt\n",
    "import seaborn as sns"
   ]
  },
  {
   "cell_type": "code",
   "execution_count": 2,
   "id": "3bee831b",
   "metadata": {},
   "outputs": [],
   "source": [
    "from sklearn.preprocessing import StandardScaler\n",
    "from sklearn.linear_model import LinearRegression\n",
    "from sklearn.metrics import mean_squared_error"
   ]
  },
  {
   "cell_type": "code",
   "execution_count": 143,
   "id": "f7bac94a",
   "metadata": {},
   "outputs": [],
   "source": [
    "from sklearn.linear_model import LogisticRegression,LinearRegression, Ridge, Lasso, ElasticNet\n",
    "from sklearn.neighbors import KNeighborsRegressor,KNeighborsClassifier\n",
    "\n",
    "from sklearn.tree import DecisionTreeClassifier,DecisionTreeRegressor\n",
    "import sklearn.tree as tree\n",
    "from sklearn.svm import SVC\n",
    "from sklearn.ensemble import RandomForestClassifier, AdaBoostClassifier, GradientBoostingClassifier, VotingClassifier\n",
    "\n",
    "from sklearn.metrics import accuracy_score\n",
    "\n",
    "\n",
    "from sklearn.model_selection import GridSearchCV, RandomizedSearchCV\n",
    "\n",
    "from sklearn.pipeline import Pipeline\n",
    "from sklearn.impute import SimpleImputer\n",
    "from sklearn.preprocessing import LabelEncoder, OrdinalEncoder, StandardScaler\n",
    "from sklearn.compose import ColumnTransformer\n",
    "\n",
    "import joblib"
   ]
  },
  {
   "cell_type": "code",
   "execution_count": 4,
   "id": "0ff3a25e",
   "metadata": {},
   "outputs": [],
   "source": [
    "train = pd.read_csv(\"train.csv\")\n",
    "test = pd.read_csv(\"test.csv\")\n",
    "submission = pd.read_csv(\"submission.csv\")"
   ]
  },
  {
   "cell_type": "code",
   "execution_count": 5,
   "id": "3abad6fb",
   "metadata": {},
   "outputs": [
    {
     "data": {
      "text/plain": [
       "Index(['Item_ID', 'Item_W', 'Item_Type', 'Item_MRP', 'Outlet_ID',\n",
       "       'Outlet_Year', 'Outlet_Size', 'Outlet_Location_Type', 'Sales'],\n",
       "      dtype='object')"
      ]
     },
     "execution_count": 5,
     "metadata": {},
     "output_type": "execute_result"
    }
   ],
   "source": [
    "train.columns"
   ]
  },
  {
   "cell_type": "code",
   "execution_count": 6,
   "id": "6a76f1ba",
   "metadata": {},
   "outputs": [
    {
     "data": {
      "text/plain": [
       "Index(['Item_ID', 'Item_W', 'Item_Type', 'Item_MRP', 'Outlet_ID',\n",
       "       'Outlet_Year', 'Outlet_Size', 'Outlet_Location_Type'],\n",
       "      dtype='object')"
      ]
     },
     "execution_count": 6,
     "metadata": {},
     "output_type": "execute_result"
    }
   ],
   "source": [
    "test.columns"
   ]
  },
  {
   "cell_type": "code",
   "execution_count": 8,
   "id": "62439d78",
   "metadata": {},
   "outputs": [
    {
     "data": {
      "text/plain": [
       "9"
      ]
     },
     "execution_count": 8,
     "metadata": {},
     "output_type": "execute_result"
    }
   ],
   "source": [
    "len(train.columns)"
   ]
  },
  {
   "cell_type": "code",
   "execution_count": 9,
   "id": "75e5197c",
   "metadata": {},
   "outputs": [
    {
     "data": {
      "text/plain": [
       "8"
      ]
     },
     "execution_count": 9,
     "metadata": {},
     "output_type": "execute_result"
    }
   ],
   "source": [
    "len(test.columns)"
   ]
  },
  {
   "cell_type": "code",
   "execution_count": 11,
   "id": "29358ac0",
   "metadata": {},
   "outputs": [
    {
     "data": {
      "text/html": [
       "<div>\n",
       "<style scoped>\n",
       "    .dataframe tbody tr th:only-of-type {\n",
       "        vertical-align: middle;\n",
       "    }\n",
       "\n",
       "    .dataframe tbody tr th {\n",
       "        vertical-align: top;\n",
       "    }\n",
       "\n",
       "    .dataframe thead th {\n",
       "        text-align: right;\n",
       "    }\n",
       "</style>\n",
       "<table border=\"1\" class=\"dataframe\">\n",
       "  <thead>\n",
       "    <tr style=\"text-align: right;\">\n",
       "      <th></th>\n",
       "      <th>Item_ID</th>\n",
       "      <th>Item_W</th>\n",
       "      <th>Item_Type</th>\n",
       "      <th>Item_MRP</th>\n",
       "      <th>Outlet_ID</th>\n",
       "      <th>Outlet_Year</th>\n",
       "      <th>Outlet_Size</th>\n",
       "      <th>Outlet_Location_Type</th>\n",
       "      <th>Sales</th>\n",
       "    </tr>\n",
       "  </thead>\n",
       "  <tbody>\n",
       "    <tr>\n",
       "      <th>0</th>\n",
       "      <td>FDU32</td>\n",
       "      <td>21.027499</td>\n",
       "      <td>Baking Goods</td>\n",
       "      <td>197.352319</td>\n",
       "      <td>OUT046</td>\n",
       "      <td>2004</td>\n",
       "      <td>Small</td>\n",
       "      <td>Tier 2</td>\n",
       "      <td>2689.457781</td>\n",
       "    </tr>\n",
       "    <tr>\n",
       "      <th>1</th>\n",
       "      <td>NCT54</td>\n",
       "      <td>21.102371</td>\n",
       "      <td>Meat</td>\n",
       "      <td>148.250214</td>\n",
       "      <td>OUT035</td>\n",
       "      <td>1987</td>\n",
       "      <td>Small</td>\n",
       "      <td>Tier 1</td>\n",
       "      <td>3437.350375</td>\n",
       "    </tr>\n",
       "    <tr>\n",
       "      <th>2</th>\n",
       "      <td>FDW08</td>\n",
       "      <td>20.882263</td>\n",
       "      <td>Hard Drinks</td>\n",
       "      <td>205.465010</td>\n",
       "      <td>OUT035</td>\n",
       "      <td>1999</td>\n",
       "      <td>Small</td>\n",
       "      <td>Tier 3</td>\n",
       "      <td>3129.967268</td>\n",
       "    </tr>\n",
       "    <tr>\n",
       "      <th>3</th>\n",
       "      <td>FDJ22</td>\n",
       "      <td>21.050435</td>\n",
       "      <td>Starchy Foods</td>\n",
       "      <td>253.417583</td>\n",
       "      <td>OUT046</td>\n",
       "      <td>1996</td>\n",
       "      <td>Small</td>\n",
       "      <td>Tier 1</td>\n",
       "      <td>1306.514376</td>\n",
       "    </tr>\n",
       "    <tr>\n",
       "      <th>4</th>\n",
       "      <td>FDF47</td>\n",
       "      <td>21.247876</td>\n",
       "      <td>Baking Goods</td>\n",
       "      <td>240.871039</td>\n",
       "      <td>OUT035</td>\n",
       "      <td>1988</td>\n",
       "      <td>Small</td>\n",
       "      <td>Tier 3</td>\n",
       "      <td>1739.769829</td>\n",
       "    </tr>\n",
       "  </tbody>\n",
       "</table>\n",
       "</div>"
      ],
      "text/plain": [
       "  Item_ID     Item_W      Item_Type    Item_MRP Outlet_ID  Outlet_Year  \\\n",
       "0   FDU32  21.027499   Baking Goods  197.352319    OUT046         2004   \n",
       "1   NCT54  21.102371           Meat  148.250214    OUT035         1987   \n",
       "2   FDW08  20.882263    Hard Drinks  205.465010    OUT035         1999   \n",
       "3   FDJ22  21.050435  Starchy Foods  253.417583    OUT046         1996   \n",
       "4   FDF47  21.247876   Baking Goods  240.871039    OUT035         1988   \n",
       "\n",
       "  Outlet_Size Outlet_Location_Type        Sales  \n",
       "0       Small               Tier 2  2689.457781  \n",
       "1       Small               Tier 1  3437.350375  \n",
       "2       Small               Tier 3  3129.967268  \n",
       "3       Small               Tier 1  1306.514376  \n",
       "4       Small               Tier 3  1739.769829  "
      ]
     },
     "execution_count": 11,
     "metadata": {},
     "output_type": "execute_result"
    }
   ],
   "source": [
    "train.head()"
   ]
  },
  {
   "cell_type": "code",
   "execution_count": 12,
   "id": "ca8fa9d5",
   "metadata": {},
   "outputs": [
    {
     "data": {
      "text/plain": [
       "(87864, 9)"
      ]
     },
     "execution_count": 12,
     "metadata": {},
     "output_type": "execute_result"
    }
   ],
   "source": [
    "train.shape"
   ]
  },
  {
   "cell_type": "code",
   "execution_count": 14,
   "id": "3f7893b5",
   "metadata": {},
   "outputs": [
    {
     "data": {
      "text/plain": [
       "(37656, 8)"
      ]
     },
     "execution_count": 14,
     "metadata": {},
     "output_type": "execute_result"
    }
   ],
   "source": [
    "test.shape"
   ]
  },
  {
   "cell_type": "code",
   "execution_count": 15,
   "id": "4dd988e8",
   "metadata": {},
   "outputs": [
    {
     "data": {
      "text/html": [
       "<div>\n",
       "<style scoped>\n",
       "    .dataframe tbody tr th:only-of-type {\n",
       "        vertical-align: middle;\n",
       "    }\n",
       "\n",
       "    .dataframe tbody tr th {\n",
       "        vertical-align: top;\n",
       "    }\n",
       "\n",
       "    .dataframe thead th {\n",
       "        text-align: right;\n",
       "    }\n",
       "</style>\n",
       "<table border=\"1\" class=\"dataframe\">\n",
       "  <thead>\n",
       "    <tr style=\"text-align: right;\">\n",
       "      <th></th>\n",
       "      <th>Sales</th>\n",
       "    </tr>\n",
       "  </thead>\n",
       "  <tbody>\n",
       "    <tr>\n",
       "      <th>0</th>\n",
       "      <td>0.0</td>\n",
       "    </tr>\n",
       "    <tr>\n",
       "      <th>1</th>\n",
       "      <td>0.0</td>\n",
       "    </tr>\n",
       "    <tr>\n",
       "      <th>2</th>\n",
       "      <td>0.0</td>\n",
       "    </tr>\n",
       "    <tr>\n",
       "      <th>3</th>\n",
       "      <td>0.0</td>\n",
       "    </tr>\n",
       "    <tr>\n",
       "      <th>4</th>\n",
       "      <td>0.0</td>\n",
       "    </tr>\n",
       "    <tr>\n",
       "      <th>...</th>\n",
       "      <td>...</td>\n",
       "    </tr>\n",
       "    <tr>\n",
       "      <th>37651</th>\n",
       "      <td>0.0</td>\n",
       "    </tr>\n",
       "    <tr>\n",
       "      <th>37652</th>\n",
       "      <td>0.0</td>\n",
       "    </tr>\n",
       "    <tr>\n",
       "      <th>37653</th>\n",
       "      <td>0.0</td>\n",
       "    </tr>\n",
       "    <tr>\n",
       "      <th>37654</th>\n",
       "      <td>0.0</td>\n",
       "    </tr>\n",
       "    <tr>\n",
       "      <th>37655</th>\n",
       "      <td>0.0</td>\n",
       "    </tr>\n",
       "  </tbody>\n",
       "</table>\n",
       "<p>37656 rows × 1 columns</p>\n",
       "</div>"
      ],
      "text/plain": [
       "       Sales\n",
       "0        0.0\n",
       "1        0.0\n",
       "2        0.0\n",
       "3        0.0\n",
       "4        0.0\n",
       "...      ...\n",
       "37651    0.0\n",
       "37652    0.0\n",
       "37653    0.0\n",
       "37654    0.0\n",
       "37655    0.0\n",
       "\n",
       "[37656 rows x 1 columns]"
      ]
     },
     "execution_count": 15,
     "metadata": {},
     "output_type": "execute_result"
    }
   ],
   "source": [
    "submission"
   ]
  },
  {
   "cell_type": "code",
   "execution_count": 16,
   "id": "200ab561",
   "metadata": {},
   "outputs": [
    {
     "name": "stdout",
     "output_type": "stream",
     "text": [
      "<class 'pandas.core.frame.DataFrame'>\n",
      "RangeIndex: 87864 entries, 0 to 87863\n",
      "Data columns (total 9 columns):\n",
      " #   Column                Non-Null Count  Dtype  \n",
      "---  ------                --------------  -----  \n",
      " 0   Item_ID               87864 non-null  object \n",
      " 1   Item_W                87864 non-null  float64\n",
      " 2   Item_Type             87864 non-null  object \n",
      " 3   Item_MRP              87864 non-null  float64\n",
      " 4   Outlet_ID             87864 non-null  object \n",
      " 5   Outlet_Year           87864 non-null  int64  \n",
      " 6   Outlet_Size           87864 non-null  object \n",
      " 7   Outlet_Location_Type  87864 non-null  object \n",
      " 8   Sales                 87864 non-null  float64\n",
      "dtypes: float64(3), int64(1), object(5)\n",
      "memory usage: 6.0+ MB\n"
     ]
    }
   ],
   "source": [
    "train.info()"
   ]
  },
  {
   "cell_type": "code",
   "execution_count": 17,
   "id": "43c65bde",
   "metadata": {},
   "outputs": [
    {
     "name": "stdout",
     "output_type": "stream",
     "text": [
      "<class 'pandas.core.frame.DataFrame'>\n",
      "RangeIndex: 37656 entries, 0 to 37655\n",
      "Data columns (total 8 columns):\n",
      " #   Column                Non-Null Count  Dtype  \n",
      "---  ------                --------------  -----  \n",
      " 0   Item_ID               37656 non-null  object \n",
      " 1   Item_W                37656 non-null  float64\n",
      " 2   Item_Type             37656 non-null  object \n",
      " 3   Item_MRP              37656 non-null  float64\n",
      " 4   Outlet_ID             37656 non-null  object \n",
      " 5   Outlet_Year           37656 non-null  int64  \n",
      " 6   Outlet_Size           37656 non-null  object \n",
      " 7   Outlet_Location_Type  37656 non-null  object \n",
      "dtypes: float64(2), int64(1), object(5)\n",
      "memory usage: 2.3+ MB\n"
     ]
    }
   ],
   "source": [
    "test.info()"
   ]
  },
  {
   "cell_type": "code",
   "execution_count": 19,
   "id": "a61d6e5c",
   "metadata": {},
   "outputs": [
    {
     "data": {
      "text/html": [
       "<div>\n",
       "<style scoped>\n",
       "    .dataframe tbody tr th:only-of-type {\n",
       "        vertical-align: middle;\n",
       "    }\n",
       "\n",
       "    .dataframe tbody tr th {\n",
       "        vertical-align: top;\n",
       "    }\n",
       "\n",
       "    .dataframe thead th {\n",
       "        text-align: right;\n",
       "    }\n",
       "</style>\n",
       "<table border=\"1\" class=\"dataframe\">\n",
       "  <thead>\n",
       "    <tr style=\"text-align: right;\">\n",
       "      <th></th>\n",
       "      <th>count</th>\n",
       "      <th>mean</th>\n",
       "      <th>std</th>\n",
       "      <th>min</th>\n",
       "      <th>25%</th>\n",
       "      <th>50%</th>\n",
       "      <th>75%</th>\n",
       "      <th>max</th>\n",
       "    </tr>\n",
       "  </thead>\n",
       "  <tbody>\n",
       "    <tr>\n",
       "      <th>Item_W</th>\n",
       "      <td>87864.0</td>\n",
       "      <td>15.591469</td>\n",
       "      <td>4.364429</td>\n",
       "      <td>7.992700</td>\n",
       "      <td>10.968658</td>\n",
       "      <td>15.831170</td>\n",
       "      <td>19.969936</td>\n",
       "      <td>21.250000</td>\n",
       "    </tr>\n",
       "    <tr>\n",
       "      <th>Item_MRP</th>\n",
       "      <td>87864.0</td>\n",
       "      <td>151.242943</td>\n",
       "      <td>59.536366</td>\n",
       "      <td>32.910015</td>\n",
       "      <td>112.423337</td>\n",
       "      <td>145.581473</td>\n",
       "      <td>197.110367</td>\n",
       "      <td>265.214271</td>\n",
       "    </tr>\n",
       "    <tr>\n",
       "      <th>Outlet_Year</th>\n",
       "      <td>87864.0</td>\n",
       "      <td>1999.870630</td>\n",
       "      <td>6.634290</td>\n",
       "      <td>1987.000000</td>\n",
       "      <td>1997.000000</td>\n",
       "      <td>1999.000000</td>\n",
       "      <td>2004.000000</td>\n",
       "      <td>2009.000000</td>\n",
       "    </tr>\n",
       "    <tr>\n",
       "      <th>Sales</th>\n",
       "      <td>87864.0</td>\n",
       "      <td>1911.842120</td>\n",
       "      <td>1291.386004</td>\n",
       "      <td>-1229.360345</td>\n",
       "      <td>959.249675</td>\n",
       "      <td>1606.307877</td>\n",
       "      <td>2608.057736</td>\n",
       "      <td>10309.283310</td>\n",
       "    </tr>\n",
       "  </tbody>\n",
       "</table>\n",
       "</div>"
      ],
      "text/plain": [
       "               count         mean          std          min          25%  \\\n",
       "Item_W       87864.0    15.591469     4.364429     7.992700    10.968658   \n",
       "Item_MRP     87864.0   151.242943    59.536366    32.910015   112.423337   \n",
       "Outlet_Year  87864.0  1999.870630     6.634290  1987.000000  1997.000000   \n",
       "Sales        87864.0  1911.842120  1291.386004 -1229.360345   959.249675   \n",
       "\n",
       "                     50%          75%           max  \n",
       "Item_W         15.831170    19.969936     21.250000  \n",
       "Item_MRP      145.581473   197.110367    265.214271  \n",
       "Outlet_Year  1999.000000  2004.000000   2009.000000  \n",
       "Sales        1606.307877  2608.057736  10309.283310  "
      ]
     },
     "execution_count": 19,
     "metadata": {},
     "output_type": "execute_result"
    }
   ],
   "source": [
    "train.describe().T"
   ]
  },
  {
   "cell_type": "code",
   "execution_count": 20,
   "id": "9407f695",
   "metadata": {},
   "outputs": [
    {
     "data": {
      "text/html": [
       "<div>\n",
       "<style scoped>\n",
       "    .dataframe tbody tr th:only-of-type {\n",
       "        vertical-align: middle;\n",
       "    }\n",
       "\n",
       "    .dataframe tbody tr th {\n",
       "        vertical-align: top;\n",
       "    }\n",
       "\n",
       "    .dataframe thead th {\n",
       "        text-align: right;\n",
       "    }\n",
       "</style>\n",
       "<table border=\"1\" class=\"dataframe\">\n",
       "  <thead>\n",
       "    <tr style=\"text-align: right;\">\n",
       "      <th></th>\n",
       "      <th>count</th>\n",
       "      <th>mean</th>\n",
       "      <th>std</th>\n",
       "      <th>min</th>\n",
       "      <th>25%</th>\n",
       "      <th>50%</th>\n",
       "      <th>75%</th>\n",
       "      <th>max</th>\n",
       "    </tr>\n",
       "  </thead>\n",
       "  <tbody>\n",
       "    <tr>\n",
       "      <th>Item_W</th>\n",
       "      <td>37656.0</td>\n",
       "      <td>12.894124</td>\n",
       "      <td>3.976554</td>\n",
       "      <td>4.598804</td>\n",
       "      <td>9.586234</td>\n",
       "      <td>12.164591</td>\n",
       "      <td>16.178979</td>\n",
       "      <td>21.250000</td>\n",
       "    </tr>\n",
       "    <tr>\n",
       "      <th>Item_MRP</th>\n",
       "      <td>37656.0</td>\n",
       "      <td>145.880456</td>\n",
       "      <td>61.512420</td>\n",
       "      <td>32.986813</td>\n",
       "      <td>102.632085</td>\n",
       "      <td>140.457198</td>\n",
       "      <td>195.207653</td>\n",
       "      <td>265.210739</td>\n",
       "    </tr>\n",
       "    <tr>\n",
       "      <th>Outlet_Year</th>\n",
       "      <td>37656.0</td>\n",
       "      <td>2000.032956</td>\n",
       "      <td>6.882847</td>\n",
       "      <td>1987.000000</td>\n",
       "      <td>1997.000000</td>\n",
       "      <td>1999.000000</td>\n",
       "      <td>2004.000000</td>\n",
       "      <td>2009.000000</td>\n",
       "    </tr>\n",
       "  </tbody>\n",
       "</table>\n",
       "</div>"
      ],
      "text/plain": [
       "               count         mean        std          min          25%  \\\n",
       "Item_W       37656.0    12.894124   3.976554     4.598804     9.586234   \n",
       "Item_MRP     37656.0   145.880456  61.512420    32.986813   102.632085   \n",
       "Outlet_Year  37656.0  2000.032956   6.882847  1987.000000  1997.000000   \n",
       "\n",
       "                     50%          75%          max  \n",
       "Item_W         12.164591    16.178979    21.250000  \n",
       "Item_MRP      140.457198   195.207653   265.210739  \n",
       "Outlet_Year  1999.000000  2004.000000  2009.000000  "
      ]
     },
     "execution_count": 20,
     "metadata": {},
     "output_type": "execute_result"
    }
   ],
   "source": [
    "test.describe().T"
   ]
  },
  {
   "cell_type": "code",
   "execution_count": 21,
   "id": "b4aa81bc",
   "metadata": {},
   "outputs": [
    {
     "data": {
      "text/plain": [
       "Item_ID                 0\n",
       "Item_W                  0\n",
       "Item_Type               0\n",
       "Item_MRP                0\n",
       "Outlet_ID               0\n",
       "Outlet_Year             0\n",
       "Outlet_Size             0\n",
       "Outlet_Location_Type    0\n",
       "Sales                   0\n",
       "dtype: int64"
      ]
     },
     "execution_count": 21,
     "metadata": {},
     "output_type": "execute_result"
    }
   ],
   "source": [
    "train.isna().sum()"
   ]
  },
  {
   "cell_type": "code",
   "execution_count": 22,
   "id": "f07f34cb",
   "metadata": {},
   "outputs": [
    {
     "data": {
      "text/plain": [
       "Item_ID                 0\n",
       "Item_W                  0\n",
       "Item_Type               0\n",
       "Item_MRP                0\n",
       "Outlet_ID               0\n",
       "Outlet_Year             0\n",
       "Outlet_Size             0\n",
       "Outlet_Location_Type    0\n",
       "dtype: int64"
      ]
     },
     "execution_count": 22,
     "metadata": {},
     "output_type": "execute_result"
    }
   ],
   "source": [
    "test.isna().sum()"
   ]
  },
  {
   "cell_type": "markdown",
   "id": "b3469148",
   "metadata": {},
   "source": [
    "### exploratory data analysis"
   ]
  },
  {
   "cell_type": "markdown",
   "id": "686a2288",
   "metadata": {},
   "source": [
    "1. Understand the data \n",
    "2 .Clean the Data \n",
    "3 . Analyse the relationship between data"
   ]
  },
  {
   "cell_type": "code",
   "execution_count": 26,
   "id": "330c214a",
   "metadata": {},
   "outputs": [
    {
     "data": {
      "text/html": [
       "<div>\n",
       "<style scoped>\n",
       "    .dataframe tbody tr th:only-of-type {\n",
       "        vertical-align: middle;\n",
       "    }\n",
       "\n",
       "    .dataframe tbody tr th {\n",
       "        vertical-align: top;\n",
       "    }\n",
       "\n",
       "    .dataframe thead th {\n",
       "        text-align: right;\n",
       "    }\n",
       "</style>\n",
       "<table border=\"1\" class=\"dataframe\">\n",
       "  <thead>\n",
       "    <tr style=\"text-align: right;\">\n",
       "      <th></th>\n",
       "      <th>Item_ID</th>\n",
       "      <th>Item_W</th>\n",
       "      <th>Item_Type</th>\n",
       "      <th>Item_MRP</th>\n",
       "      <th>Outlet_ID</th>\n",
       "      <th>Outlet_Year</th>\n",
       "      <th>Outlet_Size</th>\n",
       "      <th>Outlet_Location_Type</th>\n",
       "      <th>Sales</th>\n",
       "    </tr>\n",
       "  </thead>\n",
       "  <tbody>\n",
       "    <tr>\n",
       "      <th>0</th>\n",
       "      <td>FDU32</td>\n",
       "      <td>21.027499</td>\n",
       "      <td>Baking Goods</td>\n",
       "      <td>197.352319</td>\n",
       "      <td>OUT046</td>\n",
       "      <td>2004</td>\n",
       "      <td>Small</td>\n",
       "      <td>Tier 2</td>\n",
       "      <td>2689.457781</td>\n",
       "    </tr>\n",
       "    <tr>\n",
       "      <th>1</th>\n",
       "      <td>NCT54</td>\n",
       "      <td>21.102371</td>\n",
       "      <td>Meat</td>\n",
       "      <td>148.250214</td>\n",
       "      <td>OUT035</td>\n",
       "      <td>1987</td>\n",
       "      <td>Small</td>\n",
       "      <td>Tier 1</td>\n",
       "      <td>3437.350375</td>\n",
       "    </tr>\n",
       "    <tr>\n",
       "      <th>2</th>\n",
       "      <td>FDW08</td>\n",
       "      <td>20.882263</td>\n",
       "      <td>Hard Drinks</td>\n",
       "      <td>205.465010</td>\n",
       "      <td>OUT035</td>\n",
       "      <td>1999</td>\n",
       "      <td>Small</td>\n",
       "      <td>Tier 3</td>\n",
       "      <td>3129.967268</td>\n",
       "    </tr>\n",
       "    <tr>\n",
       "      <th>3</th>\n",
       "      <td>FDJ22</td>\n",
       "      <td>21.050435</td>\n",
       "      <td>Starchy Foods</td>\n",
       "      <td>253.417583</td>\n",
       "      <td>OUT046</td>\n",
       "      <td>1996</td>\n",
       "      <td>Small</td>\n",
       "      <td>Tier 1</td>\n",
       "      <td>1306.514376</td>\n",
       "    </tr>\n",
       "    <tr>\n",
       "      <th>4</th>\n",
       "      <td>FDF47</td>\n",
       "      <td>21.247876</td>\n",
       "      <td>Baking Goods</td>\n",
       "      <td>240.871039</td>\n",
       "      <td>OUT035</td>\n",
       "      <td>1988</td>\n",
       "      <td>Small</td>\n",
       "      <td>Tier 3</td>\n",
       "      <td>1739.769829</td>\n",
       "    </tr>\n",
       "    <tr>\n",
       "      <th>...</th>\n",
       "      <td>...</td>\n",
       "      <td>...</td>\n",
       "      <td>...</td>\n",
       "      <td>...</td>\n",
       "      <td>...</td>\n",
       "      <td>...</td>\n",
       "      <td>...</td>\n",
       "      <td>...</td>\n",
       "      <td>...</td>\n",
       "    </tr>\n",
       "    <tr>\n",
       "      <th>87859</th>\n",
       "      <td>FDG24</td>\n",
       "      <td>9.994412</td>\n",
       "      <td>Breakfast</td>\n",
       "      <td>147.389893</td>\n",
       "      <td>OUT035</td>\n",
       "      <td>1987</td>\n",
       "      <td>Medium</td>\n",
       "      <td>Tier 3</td>\n",
       "      <td>4975.646052</td>\n",
       "    </tr>\n",
       "    <tr>\n",
       "      <th>87860</th>\n",
       "      <td>FDA32</td>\n",
       "      <td>11.259252</td>\n",
       "      <td>Canned</td>\n",
       "      <td>127.965666</td>\n",
       "      <td>OUT049</td>\n",
       "      <td>1987</td>\n",
       "      <td>Medium</td>\n",
       "      <td>Tier 2</td>\n",
       "      <td>2252.492755</td>\n",
       "    </tr>\n",
       "    <tr>\n",
       "      <th>87861</th>\n",
       "      <td>FDM04</td>\n",
       "      <td>11.385812</td>\n",
       "      <td>Household</td>\n",
       "      <td>119.028901</td>\n",
       "      <td>OUT018</td>\n",
       "      <td>1997</td>\n",
       "      <td>Medium</td>\n",
       "      <td>Tier 1</td>\n",
       "      <td>2716.058050</td>\n",
       "    </tr>\n",
       "    <tr>\n",
       "      <th>87862</th>\n",
       "      <td>NCS18</td>\n",
       "      <td>18.018028</td>\n",
       "      <td>Household</td>\n",
       "      <td>223.416318</td>\n",
       "      <td>OUT018</td>\n",
       "      <td>1988</td>\n",
       "      <td>Medium</td>\n",
       "      <td>Tier 3</td>\n",
       "      <td>991.857233</td>\n",
       "    </tr>\n",
       "    <tr>\n",
       "      <th>87863</th>\n",
       "      <td>FDQ11</td>\n",
       "      <td>17.130290</td>\n",
       "      <td>Snack Foods</td>\n",
       "      <td>143.232048</td>\n",
       "      <td>OUT013</td>\n",
       "      <td>1997</td>\n",
       "      <td>Medium</td>\n",
       "      <td>Tier 3</td>\n",
       "      <td>4260.617470</td>\n",
       "    </tr>\n",
       "  </tbody>\n",
       "</table>\n",
       "<p>87864 rows × 9 columns</p>\n",
       "</div>"
      ],
      "text/plain": [
       "      Item_ID     Item_W      Item_Type    Item_MRP Outlet_ID  Outlet_Year  \\\n",
       "0       FDU32  21.027499   Baking Goods  197.352319    OUT046         2004   \n",
       "1       NCT54  21.102371           Meat  148.250214    OUT035         1987   \n",
       "2       FDW08  20.882263    Hard Drinks  205.465010    OUT035         1999   \n",
       "3       FDJ22  21.050435  Starchy Foods  253.417583    OUT046         1996   \n",
       "4       FDF47  21.247876   Baking Goods  240.871039    OUT035         1988   \n",
       "...       ...        ...            ...         ...       ...          ...   \n",
       "87859   FDG24   9.994412      Breakfast  147.389893    OUT035         1987   \n",
       "87860   FDA32  11.259252         Canned  127.965666    OUT049         1987   \n",
       "87861   FDM04  11.385812      Household  119.028901    OUT018         1997   \n",
       "87862   NCS18  18.018028      Household  223.416318    OUT018         1988   \n",
       "87863   FDQ11  17.130290    Snack Foods  143.232048    OUT013         1997   \n",
       "\n",
       "      Outlet_Size Outlet_Location_Type        Sales  \n",
       "0           Small               Tier 2  2689.457781  \n",
       "1           Small               Tier 1  3437.350375  \n",
       "2           Small               Tier 3  3129.967268  \n",
       "3           Small               Tier 1  1306.514376  \n",
       "4           Small               Tier 3  1739.769829  \n",
       "...           ...                  ...          ...  \n",
       "87859      Medium               Tier 3  4975.646052  \n",
       "87860      Medium               Tier 2  2252.492755  \n",
       "87861      Medium               Tier 1  2716.058050  \n",
       "87862      Medium               Tier 3   991.857233  \n",
       "87863      Medium               Tier 3  4260.617470  \n",
       "\n",
       "[87864 rows x 9 columns]"
      ]
     },
     "execution_count": 26,
     "metadata": {},
     "output_type": "execute_result"
    }
   ],
   "source": [
    "train"
   ]
  },
  {
   "cell_type": "code",
   "execution_count": 27,
   "id": "8b99ae68",
   "metadata": {},
   "outputs": [
    {
     "data": {
      "text/html": [
       "<div>\n",
       "<style scoped>\n",
       "    .dataframe tbody tr th:only-of-type {\n",
       "        vertical-align: middle;\n",
       "    }\n",
       "\n",
       "    .dataframe tbody tr th {\n",
       "        vertical-align: top;\n",
       "    }\n",
       "\n",
       "    .dataframe thead th {\n",
       "        text-align: right;\n",
       "    }\n",
       "</style>\n",
       "<table border=\"1\" class=\"dataframe\">\n",
       "  <thead>\n",
       "    <tr style=\"text-align: right;\">\n",
       "      <th></th>\n",
       "      <th>Item_W</th>\n",
       "      <th>Item_MRP</th>\n",
       "      <th>Outlet_Year</th>\n",
       "      <th>Sales</th>\n",
       "    </tr>\n",
       "  </thead>\n",
       "  <tbody>\n",
       "    <tr>\n",
       "      <th>count</th>\n",
       "      <td>87864.000000</td>\n",
       "      <td>87864.000000</td>\n",
       "      <td>87864.00000</td>\n",
       "      <td>87864.000000</td>\n",
       "    </tr>\n",
       "    <tr>\n",
       "      <th>mean</th>\n",
       "      <td>15.591469</td>\n",
       "      <td>151.242943</td>\n",
       "      <td>1999.87063</td>\n",
       "      <td>1911.842120</td>\n",
       "    </tr>\n",
       "    <tr>\n",
       "      <th>std</th>\n",
       "      <td>4.364429</td>\n",
       "      <td>59.536366</td>\n",
       "      <td>6.63429</td>\n",
       "      <td>1291.386004</td>\n",
       "    </tr>\n",
       "    <tr>\n",
       "      <th>min</th>\n",
       "      <td>7.992700</td>\n",
       "      <td>32.910015</td>\n",
       "      <td>1987.00000</td>\n",
       "      <td>-1229.360345</td>\n",
       "    </tr>\n",
       "    <tr>\n",
       "      <th>25%</th>\n",
       "      <td>10.968658</td>\n",
       "      <td>112.423337</td>\n",
       "      <td>1997.00000</td>\n",
       "      <td>959.249675</td>\n",
       "    </tr>\n",
       "    <tr>\n",
       "      <th>50%</th>\n",
       "      <td>15.831170</td>\n",
       "      <td>145.581473</td>\n",
       "      <td>1999.00000</td>\n",
       "      <td>1606.307877</td>\n",
       "    </tr>\n",
       "    <tr>\n",
       "      <th>75%</th>\n",
       "      <td>19.969936</td>\n",
       "      <td>197.110367</td>\n",
       "      <td>2004.00000</td>\n",
       "      <td>2608.057736</td>\n",
       "    </tr>\n",
       "    <tr>\n",
       "      <th>max</th>\n",
       "      <td>21.250000</td>\n",
       "      <td>265.214271</td>\n",
       "      <td>2009.00000</td>\n",
       "      <td>10309.283310</td>\n",
       "    </tr>\n",
       "  </tbody>\n",
       "</table>\n",
       "</div>"
      ],
      "text/plain": [
       "             Item_W      Item_MRP  Outlet_Year         Sales\n",
       "count  87864.000000  87864.000000  87864.00000  87864.000000\n",
       "mean      15.591469    151.242943   1999.87063   1911.842120\n",
       "std        4.364429     59.536366      6.63429   1291.386004\n",
       "min        7.992700     32.910015   1987.00000  -1229.360345\n",
       "25%       10.968658    112.423337   1997.00000    959.249675\n",
       "50%       15.831170    145.581473   1999.00000   1606.307877\n",
       "75%       19.969936    197.110367   2004.00000   2608.057736\n",
       "max       21.250000    265.214271   2009.00000  10309.283310"
      ]
     },
     "execution_count": 27,
     "metadata": {},
     "output_type": "execute_result"
    }
   ],
   "source": [
    "train.describe()"
   ]
  },
  {
   "cell_type": "code",
   "execution_count": 28,
   "id": "ee47d6cd",
   "metadata": {},
   "outputs": [
    {
     "data": {
      "text/plain": [
       "Item_ID                   895\n",
       "Item_W                  87283\n",
       "Item_Type                  16\n",
       "Item_MRP                87814\n",
       "Outlet_ID                   5\n",
       "Outlet_Year                12\n",
       "Outlet_Size                 3\n",
       "Outlet_Location_Type        3\n",
       "Sales                   87760\n",
       "dtype: int64"
      ]
     },
     "execution_count": 28,
     "metadata": {},
     "output_type": "execute_result"
    }
   ],
   "source": [
    "train.nunique()"
   ]
  },
  {
   "cell_type": "code",
   "execution_count": 30,
   "id": "a1b4740d",
   "metadata": {},
   "outputs": [
    {
     "data": {
      "text/plain": [
       "array(['OUT046', 'OUT035', 'OUT049', 'OUT018', 'OUT013'], dtype=object)"
      ]
     },
     "execution_count": 30,
     "metadata": {},
     "output_type": "execute_result"
    }
   ],
   "source": [
    "train[\"Outlet_ID\"].unique()"
   ]
  },
  {
   "cell_type": "code",
   "execution_count": 31,
   "id": "69932e15",
   "metadata": {},
   "outputs": [
    {
     "data": {
      "text/plain": [
       "array(['Small', 'Medium', 'High'], dtype=object)"
      ]
     },
     "execution_count": 31,
     "metadata": {},
     "output_type": "execute_result"
    }
   ],
   "source": [
    "train[\"Outlet_Size\"].unique()"
   ]
  },
  {
   "cell_type": "code",
   "execution_count": 32,
   "id": "d905b4f4",
   "metadata": {},
   "outputs": [
    {
     "data": {
      "text/plain": [
       "array(['Tier 2', 'Tier 1', 'Tier 3'], dtype=object)"
      ]
     },
     "execution_count": 32,
     "metadata": {},
     "output_type": "execute_result"
    }
   ],
   "source": [
    "train[\"Outlet_Location_Type\"].unique()"
   ]
  },
  {
   "cell_type": "code",
   "execution_count": 33,
   "id": "b4ca626b",
   "metadata": {},
   "outputs": [
    {
     "data": {
      "text/plain": [
       "array(['Baking Goods', 'Meat', 'Hard Drinks', 'Starchy Foods', 'Breads',\n",
       "       'Others', 'Seafood', 'Fruits and Vegetables', 'Soft Drinks',\n",
       "       'Household', 'Snack Foods', 'Frozen Foods', 'Health and Hygiene',\n",
       "       'Canned', 'Dairy', 'Breakfast'], dtype=object)"
      ]
     },
     "execution_count": 33,
     "metadata": {},
     "output_type": "execute_result"
    }
   ],
   "source": [
    "train[\"Item_Type\"].unique()"
   ]
  },
  {
   "cell_type": "code",
   "execution_count": 35,
   "id": "a4930c83",
   "metadata": {},
   "outputs": [
    {
     "data": {
      "text/plain": [
       "array([2004, 1987, 1999, 1996, 1988, 1997, 2009, 2003, 2008, 1998, 2005,\n",
       "       2007], dtype=int64)"
      ]
     },
     "execution_count": 35,
     "metadata": {},
     "output_type": "execute_result"
    }
   ],
   "source": [
    "train[\"Outlet_Year\"].unique()"
   ]
  },
  {
   "cell_type": "code",
   "execution_count": null,
   "id": "0f305033",
   "metadata": {},
   "outputs": [],
   "source": [
    "#Relationship analysis"
   ]
  },
  {
   "cell_type": "code",
   "execution_count": 37,
   "id": "7e05615e",
   "metadata": {},
   "outputs": [],
   "source": [
    "correlation = train.corr()"
   ]
  },
  {
   "cell_type": "code",
   "execution_count": 38,
   "id": "ca9eac8b",
   "metadata": {},
   "outputs": [
    {
     "data": {
      "text/html": [
       "<div>\n",
       "<style scoped>\n",
       "    .dataframe tbody tr th:only-of-type {\n",
       "        vertical-align: middle;\n",
       "    }\n",
       "\n",
       "    .dataframe tbody tr th {\n",
       "        vertical-align: top;\n",
       "    }\n",
       "\n",
       "    .dataframe thead th {\n",
       "        text-align: right;\n",
       "    }\n",
       "</style>\n",
       "<table border=\"1\" class=\"dataframe\">\n",
       "  <thead>\n",
       "    <tr style=\"text-align: right;\">\n",
       "      <th></th>\n",
       "      <th>Item_W</th>\n",
       "      <th>Item_MRP</th>\n",
       "      <th>Outlet_Year</th>\n",
       "      <th>Sales</th>\n",
       "    </tr>\n",
       "  </thead>\n",
       "  <tbody>\n",
       "    <tr>\n",
       "      <th>Item_W</th>\n",
       "      <td>1.000000</td>\n",
       "      <td>-0.022830</td>\n",
       "      <td>0.009632</td>\n",
       "      <td>0.000615</td>\n",
       "    </tr>\n",
       "    <tr>\n",
       "      <th>Item_MRP</th>\n",
       "      <td>-0.022830</td>\n",
       "      <td>1.000000</td>\n",
       "      <td>-0.009837</td>\n",
       "      <td>0.014813</td>\n",
       "    </tr>\n",
       "    <tr>\n",
       "      <th>Outlet_Year</th>\n",
       "      <td>0.009632</td>\n",
       "      <td>-0.009837</td>\n",
       "      <td>1.000000</td>\n",
       "      <td>-0.035701</td>\n",
       "    </tr>\n",
       "    <tr>\n",
       "      <th>Sales</th>\n",
       "      <td>0.000615</td>\n",
       "      <td>0.014813</td>\n",
       "      <td>-0.035701</td>\n",
       "      <td>1.000000</td>\n",
       "    </tr>\n",
       "  </tbody>\n",
       "</table>\n",
       "</div>"
      ],
      "text/plain": [
       "               Item_W  Item_MRP  Outlet_Year     Sales\n",
       "Item_W       1.000000 -0.022830     0.009632  0.000615\n",
       "Item_MRP    -0.022830  1.000000    -0.009837  0.014813\n",
       "Outlet_Year  0.009632 -0.009837     1.000000 -0.035701\n",
       "Sales        0.000615  0.014813    -0.035701  1.000000"
      ]
     },
     "execution_count": 38,
     "metadata": {},
     "output_type": "execute_result"
    }
   ],
   "source": [
    "correlation"
   ]
  },
  {
   "cell_type": "code",
   "execution_count": 23,
   "id": "b9b2a83c",
   "metadata": {},
   "outputs": [
    {
     "data": {
      "text/plain": [
       "<AxesSubplot:>"
      ]
     },
     "execution_count": 23,
     "metadata": {},
     "output_type": "execute_result"
    },
    {
     "data": {
      "image/png": "[encoded data removed]",
      "text/plain": [
       "<Figure size 432x288 with 2 Axes>"
      ]
     },
     "metadata": {
      "needs_background": "light"
     },
     "output_type": "display_data"
    }
   ],
   "source": [
    "sns.heatmap(train.select_dtypes(include = np.number).corr(), annot=True)"
   ]
  },
  {
   "cell_type": "code",
   "execution_count": 40,
   "id": "277a0ce0",
   "metadata": {},
   "outputs": [
    {
     "data": {
      "text/plain": [
       "<seaborn.axisgrid.PairGrid at 0x1c3844313d0>"
      ]
     },
     "execution_count": 40,
     "metadata": {},
     "output_type": "execute_result"
    },
    {
     "data": {
      "image/png": "[encoded data removed]",
      "text/plain": [
       "<Figure size 720x720 with 20 Axes>"
      ]
     },
     "metadata": {
      "needs_background": "light"
     },
     "output_type": "display_data"
    }
   ],
   "source": [
    "sns.pairplot(train)"
   ]
  },
  {
   "cell_type": "code",
   "execution_count": 46,
   "id": "609ef3ff",
   "metadata": {},
   "outputs": [
    {
     "data": {
      "text/plain": [
       "<seaborn.axisgrid.FacetGrid at 0x1c387280cd0>"
      ]
     },
     "execution_count": 46,
     "metadata": {},
     "output_type": "execute_result"
    },
    {
     "data": {
      "image/png": "[encoded data removed]",
      "text/plain": [
       "<Figure size 473.75x360 with 1 Axes>"
      ]
     },
     "metadata": {
      "needs_background": "light"
     },
     "output_type": "display_data"
    }
   ],
   "source": [
    "sns.relplot(x=\"Outlet_Size\", y =\"Item_Type\",hue=\"Outlet_Location_Type\",data =train)"
   ]
  },
  {
   "cell_type": "code",
   "execution_count": 47,
   "id": "19ce57b7",
   "metadata": {},
   "outputs": [
    {
     "data": {
      "text/plain": [
       "<seaborn.axisgrid.FacetGrid at 0x1c38a8dc1c0>"
      ]
     },
     "execution_count": 47,
     "metadata": {},
     "output_type": "execute_result"
    },
    {
     "data": {
      "image/png": "[encoded data removed]",
      "text/plain": [
       "<Figure size 436x360 with 1 Axes>"
      ]
     },
     "metadata": {
      "needs_background": "light"
     },
     "output_type": "display_data"
    }
   ],
   "source": [
    "sns.relplot(x=\"Outlet_Location_Type\", y =\"Item_Type\",hue=\"Outlet_Size\",data =train)"
   ]
  },
  {
   "cell_type": "code",
   "execution_count": 49,
   "id": "d850d5d4",
   "metadata": {},
   "outputs": [
    {
     "data": {
      "text/plain": [
       "<seaborn.axisgrid.FacetGrid at 0x1c386e01850>"
      ]
     },
     "execution_count": 49,
     "metadata": {},
     "output_type": "execute_result"
    },
    {
     "data": {
      "image/png": "[encoded data removed]",
      "text/plain": [
       "<Figure size 436x360 with 1 Axes>"
      ]
     },
     "metadata": {
      "needs_background": "light"
     },
     "output_type": "display_data"
    }
   ],
   "source": [
    "sns.relplot(x=\"Outlet_Location_Type\", y =\"Item_Type\",hue=\"Outlet_Size\",data =train)"
   ]
  },
  {
   "cell_type": "code",
   "execution_count": 50,
   "id": "eff02171",
   "metadata": {},
   "outputs": [
    {
     "data": {
      "text/plain": [
       "<seaborn.axisgrid.FacetGrid at 0x1c38a8fb8e0>"
      ]
     },
     "execution_count": 50,
     "metadata": {},
     "output_type": "execute_result"
    },
    {
     "data": {
      "image/png": "[encoded data removed]",
      "text/plain": [
       "<Figure size 436x360 with 1 Axes>"
      ]
     },
     "metadata": {
      "needs_background": "light"
     },
     "output_type": "display_data"
    }
   ],
   "source": [
    "sns.relplot(x=\"Item_W\", y =\"Item_Type\",hue=\"Outlet_Size\",data =train)"
   ]
  },
  {
   "cell_type": "code",
   "execution_count": 51,
   "id": "d6f2f8dd",
   "metadata": {},
   "outputs": [
    {
     "data": {
      "text/plain": [
       "<seaborn.axisgrid.FacetGrid at 0x1c383d92fa0>"
      ]
     },
     "execution_count": 51,
     "metadata": {},
     "output_type": "execute_result"
    },
    {
     "data": {
      "image/png": "[encoded data removed]",
      "text/plain": [
       "<Figure size 436x360 with 1 Axes>"
      ]
     },
     "metadata": {
      "needs_background": "light"
     },
     "output_type": "display_data"
    }
   ],
   "source": [
    "sns.relplot(x=\"Item_MRP\", y =\"Item_Type\",hue=\"Outlet_Size\",data =train)"
   ]
  },
  {
   "cell_type": "code",
   "execution_count": 52,
   "id": "f5faebbe",
   "metadata": {},
   "outputs": [
    {
     "data": {
      "text/plain": [
       "<seaborn.axisgrid.FacetGrid at 0x1c388e3cd00>"
      ]
     },
     "execution_count": 52,
     "metadata": {},
     "output_type": "execute_result"
    },
    {
     "data": {
      "image/png": "[encoded data removed]",
      "text/plain": [
       "<Figure size 473.75x360 with 1 Axes>"
      ]
     },
     "metadata": {
      "needs_background": "light"
     },
     "output_type": "display_data"
    }
   ],
   "source": [
    "sns.relplot(x=\"Outlet_ID\", y =\"Outlet_Size\",hue=\"Outlet_Location_Type\",data =train)"
   ]
  },
  {
   "cell_type": "code",
   "execution_count": 53,
   "id": "890ce1a7",
   "metadata": {},
   "outputs": [
    {
     "data": {
      "text/plain": [
       "<seaborn.axisgrid.FacetGrid at 0x1c388e323d0>"
      ]
     },
     "execution_count": 53,
     "metadata": {},
     "output_type": "execute_result"
    },
    {
     "data": {
      "image/png": "[encoded data removed]",
      "text/plain": [
       "<Figure size 417x360 with 1 Axes>"
      ]
     },
     "metadata": {
      "needs_background": "light"
     },
     "output_type": "display_data"
    }
   ],
   "source": [
    "sns.relplot(x=\"Outlet_ID\", y =\"Outlet_Size\",hue=\"Item_MRP\",data =train)"
   ]
  },
  {
   "cell_type": "code",
   "execution_count": 56,
   "id": "bed9f511",
   "metadata": {},
   "outputs": [
    {
     "data": {
      "text/plain": [
       "<seaborn.axisgrid.FacetGrid at 0x1c394207f70>"
      ]
     },
     "execution_count": 56,
     "metadata": {},
     "output_type": "execute_result"
    },
    {
     "data": {
      "image/png": "[encoded data removed]",
      "text/plain": [
       "<Figure size 424.875x360 with 1 Axes>"
      ]
     },
     "metadata": {
      "needs_background": "light"
     },
     "output_type": "display_data"
    }
   ],
   "source": [
    "sns.relplot(x=\"Outlet_ID\", y =\"Outlet_Size\",hue=\"Outlet_Year\",data =train)"
   ]
  },
  {
   "cell_type": "code",
   "execution_count": 57,
   "id": "c2bba480",
   "metadata": {},
   "outputs": [
    {
     "data": {
      "text/plain": [
       "<seaborn.axisgrid.FacetGrid at 0x1c3850e48e0>"
      ]
     },
     "execution_count": 57,
     "metadata": {},
     "output_type": "execute_result"
    },
    {
     "data": {
      "image/png": "[encoded data removed]",
      "text/plain": [
       "<Figure size 360x360 with 1 Axes>"
      ]
     },
     "metadata": {
      "needs_background": "light"
     },
     "output_type": "display_data"
    }
   ],
   "source": [
    "sns.displot(train[\"Outlet_Year\"])"
   ]
  },
  {
   "cell_type": "code",
   "execution_count": 60,
   "id": "c283eae1",
   "metadata": {},
   "outputs": [
    {
     "data": {
      "text/plain": [
       "<seaborn.axisgrid.FacetGrid at 0x1c38b3d4fa0>"
      ]
     },
     "execution_count": 60,
     "metadata": {},
     "output_type": "execute_result"
    },
    {
     "data": {
      "image/png": "[encoded data removed]",
      "text/plain": [
       "<Figure size 360x360 with 1 Axes>"
      ]
     },
     "metadata": {
      "needs_background": "light"
     },
     "output_type": "display_data"
    }
   ],
   "source": [
    "sns.displot(train[\"Item_MRP\"])"
   ]
  },
  {
   "cell_type": "code",
   "execution_count": 59,
   "id": "1e7fc78d",
   "metadata": {},
   "outputs": [
    {
     "data": {
      "text/plain": [
       "<seaborn.axisgrid.FacetGrid at 0x1c390d9d2e0>"
      ]
     },
     "execution_count": 59,
     "metadata": {},
     "output_type": "execute_result"
    },
    {
     "data": {
      "image/png": "[encoded data removed]",
      "text/plain": [
       "<Figure size 360x360 with 1 Axes>"
      ]
     },
     "metadata": {
      "needs_background": "light"
     },
     "output_type": "display_data"
    }
   ],
   "source": [
    "sns.displot(train[\"Item_MRP\"],bins=5)"
   ]
  },
  {
   "cell_type": "code",
   "execution_count": 64,
   "id": "20639e21",
   "metadata": {},
   "outputs": [
    {
     "data": {
      "text/plain": [
       "<seaborn.axisgrid.FacetGrid at 0x1c388e2b8b0>"
      ]
     },
     "execution_count": 64,
     "metadata": {},
     "output_type": "execute_result"
    },
    {
     "data": {
      "image/png": "[encoded data removed]",
      "text/plain": [
       "<Figure size 360x360 with 1 Axes>"
      ]
     },
     "metadata": {
      "needs_background": "light"
     },
     "output_type": "display_data"
    }
   ],
   "source": [
    "sns.catplot(x='Item_MRP',kind='box',data=train)"
   ]
  },
  {
   "cell_type": "code",
   "execution_count": 65,
   "id": "394731e3",
   "metadata": {},
   "outputs": [
    {
     "data": {
      "text/plain": [
       "<AxesSubplot:xlabel='Item_Type'>"
      ]
     },
     "execution_count": 65,
     "metadata": {},
     "output_type": "execute_result"
    },
    {
     "data": {
      "image/png": "[encoded data removed]",
      "text/plain": [
       "<Figure size 432x288 with 1 Axes>"
      ]
     },
     "metadata": {
      "needs_background": "light"
     },
     "output_type": "display_data"
    }
   ],
   "source": [
    "train.groupby([\"Item_Type\"]).Sales.mean().sort_values(ascending=False).plot(kind = \"bar\")"
   ]
  },
  {
   "cell_type": "code",
   "execution_count": 66,
   "id": "5d229204",
   "metadata": {},
   "outputs": [
    {
     "data": {
      "text/plain": [
       "Outlet_Size  Item_Type            \n",
       "High         Breads                   2155.071529\n",
       "             Breakfast                2137.642148\n",
       "             Canned                   2129.680203\n",
       "             Soft Drinks              2108.053303\n",
       "             Seafood                  2094.382701\n",
       "             Baking Goods             2085.318349\n",
       "             Meat                     2082.213450\n",
       "Small        Breads                   2063.052298\n",
       "High         Hard Drinks              2050.888100\n",
       "             Snack Foods              2042.861089\n",
       "Small        Soft Drinks              2041.434166\n",
       "             Breakfast                2039.148192\n",
       "             Seafood                  2029.688082\n",
       "High         Frozen Foods             2026.008135\n",
       "             Others                   2015.886498\n",
       "             Fruits and Vegetables    1999.515557\n",
       "Medium       Hard Drinks              1985.737114\n",
       "Small        Baking Goods             1984.362625\n",
       "             Canned                   1980.309236\n",
       "Medium       Soft Drinks              1969.108942\n",
       "Small        Frozen Foods             1959.134756\n",
       "             Meat                     1955.859400\n",
       "High         Household                1955.743115\n",
       "             Health and Hygiene       1955.451222\n",
       "Small        Hard Drinks              1953.307712\n",
       "             Snack Foods              1944.714073\n",
       "Medium       Seafood                  1937.122743\n",
       "High         Starchy Foods            1935.067830\n",
       "Small        Fruits and Vegetables    1933.143013\n",
       "             Starchy Foods            1930.003421\n",
       "             Household                1927.332615\n",
       "             Others                   1922.075990\n",
       "Medium       Breakfast                1916.344341\n",
       "Small        Health and Hygiene       1880.907395\n",
       "High         Dairy                    1878.237278\n",
       "Medium       Breads                   1859.193819\n",
       "Small        Dairy                    1850.229963\n",
       "Medium       Starchy Foods            1845.226597\n",
       "             Baking Goods             1831.822226\n",
       "             Frozen Foods             1782.287203\n",
       "             Meat                     1777.702799\n",
       "             Household                1749.617835\n",
       "             Others                   1747.992493\n",
       "             Snack Foods              1744.379620\n",
       "             Health and Hygiene       1739.483315\n",
       "             Canned                   1716.726994\n",
       "             Dairy                    1674.689749\n",
       "             Fruits and Vegetables    1653.636536\n",
       "Name: Sales, dtype: float64"
      ]
     },
     "execution_count": 66,
     "metadata": {},
     "output_type": "execute_result"
    }
   ],
   "source": [
    "train.groupby([\"Outlet_Size\",\"Item_Type\",]).Sales.mean().sort_values(ascending=False)"
   ]
  },
  {
   "cell_type": "markdown",
   "id": "f18daa01",
   "metadata": {},
   "source": [
    "# Data Preparation"
   ]
  },
  {
   "cell_type": "code",
   "execution_count": 67,
   "id": "1605da1c",
   "metadata": {},
   "outputs": [],
   "source": [
    "train[\"data\"]=\"train\"\n",
    "test[\"data\"]=\"test\""
   ]
  },
  {
   "cell_type": "code",
   "execution_count": 68,
   "id": "fffaf9a0",
   "metadata": {},
   "outputs": [
    {
     "data": {
      "text/html": [
       "<div>\n",
       "<style scoped>\n",
       "    .dataframe tbody tr th:only-of-type {\n",
       "        vertical-align: middle;\n",
       "    }\n",
       "\n",
       "    .dataframe tbody tr th {\n",
       "        vertical-align: top;\n",
       "    }\n",
       "\n",
       "    .dataframe thead th {\n",
       "        text-align: right;\n",
       "    }\n",
       "</style>\n",
       "<table border=\"1\" class=\"dataframe\">\n",
       "  <thead>\n",
       "    <tr style=\"text-align: right;\">\n",
       "      <th></th>\n",
       "      <th>Item_ID</th>\n",
       "      <th>Item_W</th>\n",
       "      <th>Item_Type</th>\n",
       "      <th>Item_MRP</th>\n",
       "      <th>Outlet_ID</th>\n",
       "      <th>Outlet_Year</th>\n",
       "      <th>Outlet_Size</th>\n",
       "      <th>Outlet_Location_Type</th>\n",
       "      <th>Sales</th>\n",
       "      <th>data</th>\n",
       "    </tr>\n",
       "  </thead>\n",
       "  <tbody>\n",
       "    <tr>\n",
       "      <th>0</th>\n",
       "      <td>FDU32</td>\n",
       "      <td>21.027499</td>\n",
       "      <td>Baking Goods</td>\n",
       "      <td>197.352319</td>\n",
       "      <td>OUT046</td>\n",
       "      <td>2004</td>\n",
       "      <td>Small</td>\n",
       "      <td>Tier 2</td>\n",
       "      <td>2689.457781</td>\n",
       "      <td>train</td>\n",
       "    </tr>\n",
       "    <tr>\n",
       "      <th>1</th>\n",
       "      <td>NCT54</td>\n",
       "      <td>21.102371</td>\n",
       "      <td>Meat</td>\n",
       "      <td>148.250214</td>\n",
       "      <td>OUT035</td>\n",
       "      <td>1987</td>\n",
       "      <td>Small</td>\n",
       "      <td>Tier 1</td>\n",
       "      <td>3437.350375</td>\n",
       "      <td>train</td>\n",
       "    </tr>\n",
       "    <tr>\n",
       "      <th>2</th>\n",
       "      <td>FDW08</td>\n",
       "      <td>20.882263</td>\n",
       "      <td>Hard Drinks</td>\n",
       "      <td>205.465010</td>\n",
       "      <td>OUT035</td>\n",
       "      <td>1999</td>\n",
       "      <td>Small</td>\n",
       "      <td>Tier 3</td>\n",
       "      <td>3129.967268</td>\n",
       "      <td>train</td>\n",
       "    </tr>\n",
       "    <tr>\n",
       "      <th>3</th>\n",
       "      <td>FDJ22</td>\n",
       "      <td>21.050435</td>\n",
       "      <td>Starchy Foods</td>\n",
       "      <td>253.417583</td>\n",
       "      <td>OUT046</td>\n",
       "      <td>1996</td>\n",
       "      <td>Small</td>\n",
       "      <td>Tier 1</td>\n",
       "      <td>1306.514376</td>\n",
       "      <td>train</td>\n",
       "    </tr>\n",
       "    <tr>\n",
       "      <th>4</th>\n",
       "      <td>FDF47</td>\n",
       "      <td>21.247876</td>\n",
       "      <td>Baking Goods</td>\n",
       "      <td>240.871039</td>\n",
       "      <td>OUT035</td>\n",
       "      <td>1988</td>\n",
       "      <td>Small</td>\n",
       "      <td>Tier 3</td>\n",
       "      <td>1739.769829</td>\n",
       "      <td>train</td>\n",
       "    </tr>\n",
       "  </tbody>\n",
       "</table>\n",
       "</div>"
      ],
      "text/plain": [
       "  Item_ID     Item_W      Item_Type    Item_MRP Outlet_ID  Outlet_Year  \\\n",
       "0   FDU32  21.027499   Baking Goods  197.352319    OUT046         2004   \n",
       "1   NCT54  21.102371           Meat  148.250214    OUT035         1987   \n",
       "2   FDW08  20.882263    Hard Drinks  205.465010    OUT035         1999   \n",
       "3   FDJ22  21.050435  Starchy Foods  253.417583    OUT046         1996   \n",
       "4   FDF47  21.247876   Baking Goods  240.871039    OUT035         1988   \n",
       "\n",
       "  Outlet_Size Outlet_Location_Type        Sales   data  \n",
       "0       Small               Tier 2  2689.457781  train  \n",
       "1       Small               Tier 1  3437.350375  train  \n",
       "2       Small               Tier 3  3129.967268  train  \n",
       "3       Small               Tier 1  1306.514376  train  \n",
       "4       Small               Tier 3  1739.769829  train  "
      ]
     },
     "execution_count": 68,
     "metadata": {},
     "output_type": "execute_result"
    }
   ],
   "source": [
    "train.head(5)"
   ]
  },
  {
   "cell_type": "code",
   "execution_count": 69,
   "id": "5d0d169e",
   "metadata": {},
   "outputs": [
    {
     "data": {
      "text/html": [
       "<div>\n",
       "<style scoped>\n",
       "    .dataframe tbody tr th:only-of-type {\n",
       "        vertical-align: middle;\n",
       "    }\n",
       "\n",
       "    .dataframe tbody tr th {\n",
       "        vertical-align: top;\n",
       "    }\n",
       "\n",
       "    .dataframe thead th {\n",
       "        text-align: right;\n",
       "    }\n",
       "</style>\n",
       "<table border=\"1\" class=\"dataframe\">\n",
       "  <thead>\n",
       "    <tr style=\"text-align: right;\">\n",
       "      <th></th>\n",
       "      <th>Item_ID</th>\n",
       "      <th>Item_W</th>\n",
       "      <th>Item_Type</th>\n",
       "      <th>Item_MRP</th>\n",
       "      <th>Outlet_ID</th>\n",
       "      <th>Outlet_Year</th>\n",
       "      <th>Outlet_Size</th>\n",
       "      <th>Outlet_Location_Type</th>\n",
       "      <th>data</th>\n",
       "    </tr>\n",
       "  </thead>\n",
       "  <tbody>\n",
       "    <tr>\n",
       "      <th>0</th>\n",
       "      <td>DRM23</td>\n",
       "      <td>10.156725</td>\n",
       "      <td>Snack Foods</td>\n",
       "      <td>119.319482</td>\n",
       "      <td>OUT013</td>\n",
       "      <td>1999</td>\n",
       "      <td>High</td>\n",
       "      <td>Tier 3</td>\n",
       "      <td>test</td>\n",
       "    </tr>\n",
       "    <tr>\n",
       "      <th>1</th>\n",
       "      <td>FDG47</td>\n",
       "      <td>10.434425</td>\n",
       "      <td>Household</td>\n",
       "      <td>263.600449</td>\n",
       "      <td>OUT018</td>\n",
       "      <td>1987</td>\n",
       "      <td>High</td>\n",
       "      <td>Tier 3</td>\n",
       "      <td>test</td>\n",
       "    </tr>\n",
       "    <tr>\n",
       "      <th>2</th>\n",
       "      <td>FDN21</td>\n",
       "      <td>11.953589</td>\n",
       "      <td>Health and Hygiene</td>\n",
       "      <td>246.286990</td>\n",
       "      <td>OUT018</td>\n",
       "      <td>1997</td>\n",
       "      <td>High</td>\n",
       "      <td>Tier 1</td>\n",
       "      <td>test</td>\n",
       "    </tr>\n",
       "    <tr>\n",
       "      <th>3</th>\n",
       "      <td>FDZ23</td>\n",
       "      <td>14.948546</td>\n",
       "      <td>Dairy</td>\n",
       "      <td>136.200508</td>\n",
       "      <td>OUT046</td>\n",
       "      <td>2004</td>\n",
       "      <td>Medium</td>\n",
       "      <td>Tier 2</td>\n",
       "      <td>test</td>\n",
       "    </tr>\n",
       "    <tr>\n",
       "      <th>4</th>\n",
       "      <td>FDC16</td>\n",
       "      <td>11.080042</td>\n",
       "      <td>Canned</td>\n",
       "      <td>173.145664</td>\n",
       "      <td>OUT018</td>\n",
       "      <td>2009</td>\n",
       "      <td>Medium</td>\n",
       "      <td>Tier 3</td>\n",
       "      <td>test</td>\n",
       "    </tr>\n",
       "  </tbody>\n",
       "</table>\n",
       "</div>"
      ],
      "text/plain": [
       "  Item_ID     Item_W           Item_Type    Item_MRP Outlet_ID  Outlet_Year  \\\n",
       "0   DRM23  10.156725         Snack Foods  119.319482    OUT013         1999   \n",
       "1   FDG47  10.434425           Household  263.600449    OUT018         1987   \n",
       "2   FDN21  11.953589  Health and Hygiene  246.286990    OUT018         1997   \n",
       "3   FDZ23  14.948546               Dairy  136.200508    OUT046         2004   \n",
       "4   FDC16  11.080042              Canned  173.145664    OUT018         2009   \n",
       "\n",
       "  Outlet_Size Outlet_Location_Type  data  \n",
       "0        High               Tier 3  test  \n",
       "1        High               Tier 3  test  \n",
       "2        High               Tier 1  test  \n",
       "3      Medium               Tier 2  test  \n",
       "4      Medium               Tier 3  test  "
      ]
     },
     "execution_count": 69,
     "metadata": {},
     "output_type": "execute_result"
    }
   ],
   "source": [
    "test.head(5)"
   ]
  },
  {
   "cell_type": "code",
   "execution_count": 108,
   "id": "92f2d53d",
   "metadata": {},
   "outputs": [],
   "source": [
    "data=pd.concat([train,test])"
   ]
  },
  {
   "cell_type": "code",
   "execution_count": 111,
   "id": "1e409291",
   "metadata": {},
   "outputs": [],
   "source": [
    "data = data.reset_index().drop(columns=\"index\")"
   ]
  },
  {
   "cell_type": "code",
   "execution_count": 112,
   "id": "510a6f4b",
   "metadata": {},
   "outputs": [
    {
     "data": {
      "text/html": [
       "<div>\n",
       "<style scoped>\n",
       "    .dataframe tbody tr th:only-of-type {\n",
       "        vertical-align: middle;\n",
       "    }\n",
       "\n",
       "    .dataframe tbody tr th {\n",
       "        vertical-align: top;\n",
       "    }\n",
       "\n",
       "    .dataframe thead th {\n",
       "        text-align: right;\n",
       "    }\n",
       "</style>\n",
       "<table border=\"1\" class=\"dataframe\">\n",
       "  <thead>\n",
       "    <tr style=\"text-align: right;\">\n",
       "      <th></th>\n",
       "      <th>Item_ID</th>\n",
       "      <th>Item_W</th>\n",
       "      <th>Item_Type</th>\n",
       "      <th>Item_MRP</th>\n",
       "      <th>Outlet_ID</th>\n",
       "      <th>Outlet_Year</th>\n",
       "      <th>Outlet_Size</th>\n",
       "      <th>Outlet_Location_Type</th>\n",
       "      <th>Sales</th>\n",
       "      <th>data</th>\n",
       "    </tr>\n",
       "  </thead>\n",
       "  <tbody>\n",
       "    <tr>\n",
       "      <th>0</th>\n",
       "      <td>FDU32</td>\n",
       "      <td>21.027499</td>\n",
       "      <td>Baking Goods</td>\n",
       "      <td>197.352319</td>\n",
       "      <td>OUT046</td>\n",
       "      <td>2004</td>\n",
       "      <td>Small</td>\n",
       "      <td>Tier 2</td>\n",
       "      <td>2689.457781</td>\n",
       "      <td>train</td>\n",
       "    </tr>\n",
       "    <tr>\n",
       "      <th>1</th>\n",
       "      <td>NCT54</td>\n",
       "      <td>21.102371</td>\n",
       "      <td>Meat</td>\n",
       "      <td>148.250214</td>\n",
       "      <td>OUT035</td>\n",
       "      <td>1987</td>\n",
       "      <td>Small</td>\n",
       "      <td>Tier 1</td>\n",
       "      <td>3437.350375</td>\n",
       "      <td>train</td>\n",
       "    </tr>\n",
       "    <tr>\n",
       "      <th>2</th>\n",
       "      <td>FDW08</td>\n",
       "      <td>20.882263</td>\n",
       "      <td>Hard Drinks</td>\n",
       "      <td>205.465010</td>\n",
       "      <td>OUT035</td>\n",
       "      <td>1999</td>\n",
       "      <td>Small</td>\n",
       "      <td>Tier 3</td>\n",
       "      <td>3129.967268</td>\n",
       "      <td>train</td>\n",
       "    </tr>\n",
       "    <tr>\n",
       "      <th>3</th>\n",
       "      <td>FDJ22</td>\n",
       "      <td>21.050435</td>\n",
       "      <td>Starchy Foods</td>\n",
       "      <td>253.417583</td>\n",
       "      <td>OUT046</td>\n",
       "      <td>1996</td>\n",
       "      <td>Small</td>\n",
       "      <td>Tier 1</td>\n",
       "      <td>1306.514376</td>\n",
       "      <td>train</td>\n",
       "    </tr>\n",
       "    <tr>\n",
       "      <th>4</th>\n",
       "      <td>FDF47</td>\n",
       "      <td>21.247876</td>\n",
       "      <td>Baking Goods</td>\n",
       "      <td>240.871039</td>\n",
       "      <td>OUT035</td>\n",
       "      <td>1988</td>\n",
       "      <td>Small</td>\n",
       "      <td>Tier 3</td>\n",
       "      <td>1739.769829</td>\n",
       "      <td>train</td>\n",
       "    </tr>\n",
       "  </tbody>\n",
       "</table>\n",
       "</div>"
      ],
      "text/plain": [
       "  Item_ID     Item_W      Item_Type    Item_MRP Outlet_ID  Outlet_Year  \\\n",
       "0   FDU32  21.027499   Baking Goods  197.352319    OUT046         2004   \n",
       "1   NCT54  21.102371           Meat  148.250214    OUT035         1987   \n",
       "2   FDW08  20.882263    Hard Drinks  205.465010    OUT035         1999   \n",
       "3   FDJ22  21.050435  Starchy Foods  253.417583    OUT046         1996   \n",
       "4   FDF47  21.247876   Baking Goods  240.871039    OUT035         1988   \n",
       "\n",
       "  Outlet_Size Outlet_Location_Type        Sales   data  \n",
       "0       Small               Tier 2  2689.457781  train  \n",
       "1       Small               Tier 1  3437.350375  train  \n",
       "2       Small               Tier 3  3129.967268  train  \n",
       "3       Small               Tier 1  1306.514376  train  \n",
       "4       Small               Tier 3  1739.769829  train  "
      ]
     },
     "execution_count": 112,
     "metadata": {},
     "output_type": "execute_result"
    }
   ],
   "source": [
    "data.head(5)"
   ]
  },
  {
   "cell_type": "code",
   "execution_count": 113,
   "id": "ae2d2063",
   "metadata": {},
   "outputs": [
    {
     "name": "stdout",
     "output_type": "stream",
     "text": [
      "<class 'pandas.core.frame.DataFrame'>\n",
      "RangeIndex: 125520 entries, 0 to 125519\n",
      "Data columns (total 10 columns):\n",
      " #   Column                Non-Null Count   Dtype  \n",
      "---  ------                --------------   -----  \n",
      " 0   Item_ID               125520 non-null  object \n",
      " 1   Item_W                125520 non-null  float64\n",
      " 2   Item_Type             125520 non-null  object \n",
      " 3   Item_MRP              125520 non-null  float64\n",
      " 4   Outlet_ID             125520 non-null  object \n",
      " 5   Outlet_Year           125520 non-null  int64  \n",
      " 6   Outlet_Size           125520 non-null  object \n",
      " 7   Outlet_Location_Type  125520 non-null  object \n",
      " 8   Sales                 87864 non-null   float64\n",
      " 9   data                  125520 non-null  object \n",
      "dtypes: float64(3), int64(1), object(6)\n",
      "memory usage: 9.6+ MB\n"
     ]
    }
   ],
   "source": [
    "data.info()"
   ]
  },
  {
   "cell_type": "code",
   "execution_count": 114,
   "id": "1c829f88",
   "metadata": {},
   "outputs": [
    {
     "data": {
      "text/plain": [
       "Item_ID                     0\n",
       "Item_W                      0\n",
       "Item_Type                   0\n",
       "Item_MRP                    0\n",
       "Outlet_ID                   0\n",
       "Outlet_Year                 0\n",
       "Outlet_Size                 0\n",
       "Outlet_Location_Type        0\n",
       "Sales                   37656\n",
       "data                        0\n",
       "dtype: int64"
      ]
     },
     "execution_count": 114,
     "metadata": {},
     "output_type": "execute_result"
    }
   ],
   "source": [
    "data.isna().sum()"
   ]
  },
  {
   "cell_type": "code",
   "execution_count": 115,
   "id": "945249d9",
   "metadata": {},
   "outputs": [
    {
     "data": {
      "text/plain": [
       "Item_ID                    896\n",
       "Item_W                  123907\n",
       "Item_Type                   16\n",
       "Item_MRP                125326\n",
       "Outlet_ID                    5\n",
       "Outlet_Year                 12\n",
       "Outlet_Size                  3\n",
       "Outlet_Location_Type         3\n",
       "Sales                    87760\n",
       "data                         2\n",
       "dtype: int64"
      ]
     },
     "execution_count": 115,
     "metadata": {},
     "output_type": "execute_result"
    }
   ],
   "source": [
    "data.apply(lambda x: x.nunique())"
   ]
  },
  {
   "cell_type": "code",
   "execution_count": 116,
   "id": "27808cf1",
   "metadata": {},
   "outputs": [],
   "source": [
    "numeric_data_columns = data.select_dtypes(include = np.number).drop(columns = \"Sales\").columns"
   ]
  },
  {
   "cell_type": "code",
   "execution_count": 117,
   "id": "50b32be2",
   "metadata": {},
   "outputs": [],
   "source": [
    "category_data_columns = data.select_dtypes(exclude = np.number).drop(columns=[\"Item_ID\",\"data\"]).columns"
   ]
  },
  {
   "cell_type": "code",
   "execution_count": 118,
   "id": "339ac259",
   "metadata": {},
   "outputs": [
    {
     "data": {
      "text/plain": [
       "(Index(['Item_W', 'Item_MRP', 'Outlet_Year'], dtype='object'),\n",
       " Index(['Item_Type', 'Outlet_ID', 'Outlet_Size', 'Outlet_Location_Type'], dtype='object'))"
      ]
     },
     "execution_count": 118,
     "metadata": {},
     "output_type": "execute_result"
    }
   ],
   "source": [
    "numeric_data_columns ,category_data_columns"
   ]
  },
  {
   "cell_type": "code",
   "execution_count": 119,
   "id": "39af2717",
   "metadata": {},
   "outputs": [],
   "source": [
    "preprocess_category_data_columns = pd.get_dummies(data[category_data_columns])"
   ]
  },
  {
   "cell_type": "code",
   "execution_count": 120,
   "id": "ebadc078",
   "metadata": {},
   "outputs": [
    {
     "data": {
      "text/html": [
       "<div>\n",
       "<style scoped>\n",
       "    .dataframe tbody tr th:only-of-type {\n",
       "        vertical-align: middle;\n",
       "    }\n",
       "\n",
       "    .dataframe tbody tr th {\n",
       "        vertical-align: top;\n",
       "    }\n",
       "\n",
       "    .dataframe thead th {\n",
       "        text-align: right;\n",
       "    }\n",
       "</style>\n",
       "<table border=\"1\" class=\"dataframe\">\n",
       "  <thead>\n",
       "    <tr style=\"text-align: right;\">\n",
       "      <th></th>\n",
       "      <th>Item_Type_Baking Goods</th>\n",
       "      <th>Item_Type_Breads</th>\n",
       "      <th>Item_Type_Breakfast</th>\n",
       "      <th>Item_Type_Canned</th>\n",
       "      <th>Item_Type_Dairy</th>\n",
       "      <th>Item_Type_Frozen Foods</th>\n",
       "      <th>Item_Type_Fruits and Vegetables</th>\n",
       "      <th>Item_Type_Hard Drinks</th>\n",
       "      <th>Item_Type_Health and Hygiene</th>\n",
       "      <th>Item_Type_Household</th>\n",
       "      <th>...</th>\n",
       "      <th>Outlet_ID_OUT018</th>\n",
       "      <th>Outlet_ID_OUT035</th>\n",
       "      <th>Outlet_ID_OUT046</th>\n",
       "      <th>Outlet_ID_OUT049</th>\n",
       "      <th>Outlet_Size_High</th>\n",
       "      <th>Outlet_Size_Medium</th>\n",
       "      <th>Outlet_Size_Small</th>\n",
       "      <th>Outlet_Location_Type_Tier 1</th>\n",
       "      <th>Outlet_Location_Type_Tier 2</th>\n",
       "      <th>Outlet_Location_Type_Tier 3</th>\n",
       "    </tr>\n",
       "  </thead>\n",
       "  <tbody>\n",
       "    <tr>\n",
       "      <th>0</th>\n",
       "      <td>1</td>\n",
       "      <td>0</td>\n",
       "      <td>0</td>\n",
       "      <td>0</td>\n",
       "      <td>0</td>\n",
       "      <td>0</td>\n",
       "      <td>0</td>\n",
       "      <td>0</td>\n",
       "      <td>0</td>\n",
       "      <td>0</td>\n",
       "      <td>...</td>\n",
       "      <td>0</td>\n",
       "      <td>0</td>\n",
       "      <td>1</td>\n",
       "      <td>0</td>\n",
       "      <td>0</td>\n",
       "      <td>0</td>\n",
       "      <td>1</td>\n",
       "      <td>0</td>\n",
       "      <td>1</td>\n",
       "      <td>0</td>\n",
       "    </tr>\n",
       "    <tr>\n",
       "      <th>1</th>\n",
       "      <td>0</td>\n",
       "      <td>0</td>\n",
       "      <td>0</td>\n",
       "      <td>0</td>\n",
       "      <td>0</td>\n",
       "      <td>0</td>\n",
       "      <td>0</td>\n",
       "      <td>0</td>\n",
       "      <td>0</td>\n",
       "      <td>0</td>\n",
       "      <td>...</td>\n",
       "      <td>0</td>\n",
       "      <td>1</td>\n",
       "      <td>0</td>\n",
       "      <td>0</td>\n",
       "      <td>0</td>\n",
       "      <td>0</td>\n",
       "      <td>1</td>\n",
       "      <td>1</td>\n",
       "      <td>0</td>\n",
       "      <td>0</td>\n",
       "    </tr>\n",
       "    <tr>\n",
       "      <th>2</th>\n",
       "      <td>0</td>\n",
       "      <td>0</td>\n",
       "      <td>0</td>\n",
       "      <td>0</td>\n",
       "      <td>0</td>\n",
       "      <td>0</td>\n",
       "      <td>0</td>\n",
       "      <td>1</td>\n",
       "      <td>0</td>\n",
       "      <td>0</td>\n",
       "      <td>...</td>\n",
       "      <td>0</td>\n",
       "      <td>1</td>\n",
       "      <td>0</td>\n",
       "      <td>0</td>\n",
       "      <td>0</td>\n",
       "      <td>0</td>\n",
       "      <td>1</td>\n",
       "      <td>0</td>\n",
       "      <td>0</td>\n",
       "      <td>1</td>\n",
       "    </tr>\n",
       "    <tr>\n",
       "      <th>3</th>\n",
       "      <td>0</td>\n",
       "      <td>0</td>\n",
       "      <td>0</td>\n",
       "      <td>0</td>\n",
       "      <td>0</td>\n",
       "      <td>0</td>\n",
       "      <td>0</td>\n",
       "      <td>0</td>\n",
       "      <td>0</td>\n",
       "      <td>0</td>\n",
       "      <td>...</td>\n",
       "      <td>0</td>\n",
       "      <td>0</td>\n",
       "      <td>1</td>\n",
       "      <td>0</td>\n",
       "      <td>0</td>\n",
       "      <td>0</td>\n",
       "      <td>1</td>\n",
       "      <td>1</td>\n",
       "      <td>0</td>\n",
       "      <td>0</td>\n",
       "    </tr>\n",
       "    <tr>\n",
       "      <th>4</th>\n",
       "      <td>1</td>\n",
       "      <td>0</td>\n",
       "      <td>0</td>\n",
       "      <td>0</td>\n",
       "      <td>0</td>\n",
       "      <td>0</td>\n",
       "      <td>0</td>\n",
       "      <td>0</td>\n",
       "      <td>0</td>\n",
       "      <td>0</td>\n",
       "      <td>...</td>\n",
       "      <td>0</td>\n",
       "      <td>1</td>\n",
       "      <td>0</td>\n",
       "      <td>0</td>\n",
       "      <td>0</td>\n",
       "      <td>0</td>\n",
       "      <td>1</td>\n",
       "      <td>0</td>\n",
       "      <td>0</td>\n",
       "      <td>1</td>\n",
       "    </tr>\n",
       "    <tr>\n",
       "      <th>...</th>\n",
       "      <td>...</td>\n",
       "      <td>...</td>\n",
       "      <td>...</td>\n",
       "      <td>...</td>\n",
       "      <td>...</td>\n",
       "      <td>...</td>\n",
       "      <td>...</td>\n",
       "      <td>...</td>\n",
       "      <td>...</td>\n",
       "      <td>...</td>\n",
       "      <td>...</td>\n",
       "      <td>...</td>\n",
       "      <td>...</td>\n",
       "      <td>...</td>\n",
       "      <td>...</td>\n",
       "      <td>...</td>\n",
       "      <td>...</td>\n",
       "      <td>...</td>\n",
       "      <td>...</td>\n",
       "      <td>...</td>\n",
       "      <td>...</td>\n",
       "    </tr>\n",
       "    <tr>\n",
       "      <th>125515</th>\n",
       "      <td>0</td>\n",
       "      <td>0</td>\n",
       "      <td>0</td>\n",
       "      <td>0</td>\n",
       "      <td>1</td>\n",
       "      <td>0</td>\n",
       "      <td>0</td>\n",
       "      <td>0</td>\n",
       "      <td>0</td>\n",
       "      <td>0</td>\n",
       "      <td>...</td>\n",
       "      <td>1</td>\n",
       "      <td>0</td>\n",
       "      <td>0</td>\n",
       "      <td>0</td>\n",
       "      <td>0</td>\n",
       "      <td>1</td>\n",
       "      <td>0</td>\n",
       "      <td>0</td>\n",
       "      <td>0</td>\n",
       "      <td>1</td>\n",
       "    </tr>\n",
       "    <tr>\n",
       "      <th>125516</th>\n",
       "      <td>0</td>\n",
       "      <td>0</td>\n",
       "      <td>0</td>\n",
       "      <td>1</td>\n",
       "      <td>0</td>\n",
       "      <td>0</td>\n",
       "      <td>0</td>\n",
       "      <td>0</td>\n",
       "      <td>0</td>\n",
       "      <td>0</td>\n",
       "      <td>...</td>\n",
       "      <td>1</td>\n",
       "      <td>0</td>\n",
       "      <td>0</td>\n",
       "      <td>0</td>\n",
       "      <td>0</td>\n",
       "      <td>1</td>\n",
       "      <td>0</td>\n",
       "      <td>0</td>\n",
       "      <td>0</td>\n",
       "      <td>1</td>\n",
       "    </tr>\n",
       "    <tr>\n",
       "      <th>125517</th>\n",
       "      <td>0</td>\n",
       "      <td>0</td>\n",
       "      <td>0</td>\n",
       "      <td>0</td>\n",
       "      <td>0</td>\n",
       "      <td>0</td>\n",
       "      <td>0</td>\n",
       "      <td>0</td>\n",
       "      <td>0</td>\n",
       "      <td>0</td>\n",
       "      <td>...</td>\n",
       "      <td>0</td>\n",
       "      <td>0</td>\n",
       "      <td>1</td>\n",
       "      <td>0</td>\n",
       "      <td>0</td>\n",
       "      <td>0</td>\n",
       "      <td>1</td>\n",
       "      <td>1</td>\n",
       "      <td>0</td>\n",
       "      <td>0</td>\n",
       "    </tr>\n",
       "    <tr>\n",
       "      <th>125518</th>\n",
       "      <td>0</td>\n",
       "      <td>0</td>\n",
       "      <td>0</td>\n",
       "      <td>0</td>\n",
       "      <td>0</td>\n",
       "      <td>0</td>\n",
       "      <td>0</td>\n",
       "      <td>0</td>\n",
       "      <td>0</td>\n",
       "      <td>0</td>\n",
       "      <td>...</td>\n",
       "      <td>1</td>\n",
       "      <td>0</td>\n",
       "      <td>0</td>\n",
       "      <td>0</td>\n",
       "      <td>0</td>\n",
       "      <td>1</td>\n",
       "      <td>0</td>\n",
       "      <td>0</td>\n",
       "      <td>0</td>\n",
       "      <td>1</td>\n",
       "    </tr>\n",
       "    <tr>\n",
       "      <th>125519</th>\n",
       "      <td>0</td>\n",
       "      <td>0</td>\n",
       "      <td>0</td>\n",
       "      <td>0</td>\n",
       "      <td>0</td>\n",
       "      <td>0</td>\n",
       "      <td>0</td>\n",
       "      <td>0</td>\n",
       "      <td>0</td>\n",
       "      <td>0</td>\n",
       "      <td>...</td>\n",
       "      <td>1</td>\n",
       "      <td>0</td>\n",
       "      <td>0</td>\n",
       "      <td>0</td>\n",
       "      <td>0</td>\n",
       "      <td>1</td>\n",
       "      <td>0</td>\n",
       "      <td>0</td>\n",
       "      <td>0</td>\n",
       "      <td>1</td>\n",
       "    </tr>\n",
       "  </tbody>\n",
       "</table>\n",
       "<p>125520 rows × 27 columns</p>\n",
       "</div>"
      ],
      "text/plain": [
       "        Item_Type_Baking Goods  Item_Type_Breads  Item_Type_Breakfast  \\\n",
       "0                            1                 0                    0   \n",
       "1                            0                 0                    0   \n",
       "2                            0                 0                    0   \n",
       "3                            0                 0                    0   \n",
       "4                            1                 0                    0   \n",
       "...                        ...               ...                  ...   \n",
       "125515                       0                 0                    0   \n",
       "125516                       0                 0                    0   \n",
       "125517                       0                 0                    0   \n",
       "125518                       0                 0                    0   \n",
       "125519                       0                 0                    0   \n",
       "\n",
       "        Item_Type_Canned  Item_Type_Dairy  Item_Type_Frozen Foods  \\\n",
       "0                      0                0                       0   \n",
       "1                      0                0                       0   \n",
       "2                      0                0                       0   \n",
       "3                      0                0                       0   \n",
       "4                      0                0                       0   \n",
       "...                  ...              ...                     ...   \n",
       "125515                 0                1                       0   \n",
       "125516                 1                0                       0   \n",
       "125517                 0                0                       0   \n",
       "125518                 0                0                       0   \n",
       "125519                 0                0                       0   \n",
       "\n",
       "        Item_Type_Fruits and Vegetables  Item_Type_Hard Drinks  \\\n",
       "0                                     0                      0   \n",
       "1                                     0                      0   \n",
       "2                                     0                      1   \n",
       "3                                     0                      0   \n",
       "4                                     0                      0   \n",
       "...                                 ...                    ...   \n",
       "125515                                0                      0   \n",
       "125516                                0                      0   \n",
       "125517                                0                      0   \n",
       "125518                                0                      0   \n",
       "125519                                0                      0   \n",
       "\n",
       "        Item_Type_Health and Hygiene  Item_Type_Household  ...  \\\n",
       "0                                  0                    0  ...   \n",
       "1                                  0                    0  ...   \n",
       "2                                  0                    0  ...   \n",
       "3                                  0                    0  ...   \n",
       "4                                  0                    0  ...   \n",
       "...                              ...                  ...  ...   \n",
       "125515                             0                    0  ...   \n",
       "125516                             0                    0  ...   \n",
       "125517                             0                    0  ...   \n",
       "125518                             0                    0  ...   \n",
       "125519                             0                    0  ...   \n",
       "\n",
       "        Outlet_ID_OUT018  Outlet_ID_OUT035  Outlet_ID_OUT046  \\\n",
       "0                      0                 0                 1   \n",
       "1                      0                 1                 0   \n",
       "2                      0                 1                 0   \n",
       "3                      0                 0                 1   \n",
       "4                      0                 1                 0   \n",
       "...                  ...               ...               ...   \n",
       "125515                 1                 0                 0   \n",
       "125516                 1                 0                 0   \n",
       "125517                 0                 0                 1   \n",
       "125518                 1                 0                 0   \n",
       "125519                 1                 0                 0   \n",
       "\n",
       "        Outlet_ID_OUT049  Outlet_Size_High  Outlet_Size_Medium  \\\n",
       "0                      0                 0                   0   \n",
       "1                      0                 0                   0   \n",
       "2                      0                 0                   0   \n",
       "3                      0                 0                   0   \n",
       "4                      0                 0                   0   \n",
       "...                  ...               ...                 ...   \n",
       "125515                 0                 0                   1   \n",
       "125516                 0                 0                   1   \n",
       "125517                 0                 0                   0   \n",
       "125518                 0                 0                   1   \n",
       "125519                 0                 0                   1   \n",
       "\n",
       "        Outlet_Size_Small  Outlet_Location_Type_Tier 1  \\\n",
       "0                       1                            0   \n",
       "1                       1                            1   \n",
       "2                       1                            0   \n",
       "3                       1                            1   \n",
       "4                       1                            0   \n",
       "...                   ...                          ...   \n",
       "125515                  0                            0   \n",
       "125516                  0                            0   \n",
       "125517                  1                            1   \n",
       "125518                  0                            0   \n",
       "125519                  0                            0   \n",
       "\n",
       "        Outlet_Location_Type_Tier 2  Outlet_Location_Type_Tier 3  \n",
       "0                                 1                            0  \n",
       "1                                 0                            0  \n",
       "2                                 0                            1  \n",
       "3                                 0                            0  \n",
       "4                                 0                            1  \n",
       "...                             ...                          ...  \n",
       "125515                            0                            1  \n",
       "125516                            0                            1  \n",
       "125517                            0                            0  \n",
       "125518                            0                            1  \n",
       "125519                            0                            1  \n",
       "\n",
       "[125520 rows x 27 columns]"
      ]
     },
     "execution_count": 120,
     "metadata": {},
     "output_type": "execute_result"
    }
   ],
   "source": [
    "preprocess_category_data_columns"
   ]
  },
  {
   "cell_type": "code",
   "execution_count": 121,
   "id": "c260a01d",
   "metadata": {},
   "outputs": [
    {
     "data": {
      "text/plain": [
       "Item_Type_Baking Goods             0\n",
       "Item_Type_Breads                   0\n",
       "Item_Type_Breakfast                0\n",
       "Item_Type_Canned                   0\n",
       "Item_Type_Dairy                    0\n",
       "Item_Type_Frozen Foods             0\n",
       "Item_Type_Fruits and Vegetables    0\n",
       "Item_Type_Hard Drinks              0\n",
       "Item_Type_Health and Hygiene       0\n",
       "Item_Type_Household                0\n",
       "Item_Type_Meat                     0\n",
       "Item_Type_Others                   0\n",
       "Item_Type_Seafood                  0\n",
       "Item_Type_Snack Foods              0\n",
       "Item_Type_Soft Drinks              0\n",
       "Item_Type_Starchy Foods            0\n",
       "Outlet_ID_OUT013                   0\n",
       "Outlet_ID_OUT018                   0\n",
       "Outlet_ID_OUT035                   0\n",
       "Outlet_ID_OUT046                   0\n",
       "Outlet_ID_OUT049                   0\n",
       "Outlet_Size_High                   0\n",
       "Outlet_Size_Medium                 0\n",
       "Outlet_Size_Small                  0\n",
       "Outlet_Location_Type_Tier 1        0\n",
       "Outlet_Location_Type_Tier 2        0\n",
       "Outlet_Location_Type_Tier 3        0\n",
       "dtype: int64"
      ]
     },
     "execution_count": 121,
     "metadata": {},
     "output_type": "execute_result"
    }
   ],
   "source": [
    "preprocess_category_data_columns.isna().sum()"
   ]
  },
  {
   "cell_type": "code",
   "execution_count": 122,
   "id": "4a6f37c5",
   "metadata": {},
   "outputs": [],
   "source": [
    "scaler = StandardScaler()"
   ]
  },
  {
   "cell_type": "code",
   "execution_count": 123,
   "id": "45a0aced",
   "metadata": {},
   "outputs": [],
   "source": [
    "preprocess_numeric_data_columns = pd.DataFrame(scaler.fit_transform(data[numeric_data_columns]), columns=numeric_data_columns)"
   ]
  },
  {
   "cell_type": "code",
   "execution_count": 124,
   "id": "f8e2d397",
   "metadata": {},
   "outputs": [
    {
     "data": {
      "text/html": [
       "<div>\n",
       "<style scoped>\n",
       "    .dataframe tbody tr th:only-of-type {\n",
       "        vertical-align: middle;\n",
       "    }\n",
       "\n",
       "    .dataframe tbody tr th {\n",
       "        vertical-align: top;\n",
       "    }\n",
       "\n",
       "    .dataframe thead th {\n",
       "        text-align: right;\n",
       "    }\n",
       "</style>\n",
       "<table border=\"1\" class=\"dataframe\">\n",
       "  <thead>\n",
       "    <tr style=\"text-align: right;\">\n",
       "      <th></th>\n",
       "      <th>Item_W</th>\n",
       "      <th>Item_MRP</th>\n",
       "      <th>Outlet_Year</th>\n",
       "    </tr>\n",
       "  </thead>\n",
       "  <tbody>\n",
       "    <tr>\n",
       "      <th>0</th>\n",
       "      <td>1.410465</td>\n",
       "      <td>0.792848</td>\n",
       "      <td>0.608131</td>\n",
       "    </tr>\n",
       "    <tr>\n",
       "      <th>1</th>\n",
       "      <td>1.427374</td>\n",
       "      <td>-0.022995</td>\n",
       "      <td>-1.925332</td>\n",
       "    </tr>\n",
       "    <tr>\n",
       "      <th>2</th>\n",
       "      <td>1.377664</td>\n",
       "      <td>0.927642</td>\n",
       "      <td>-0.137005</td>\n",
       "    </tr>\n",
       "    <tr>\n",
       "      <th>3</th>\n",
       "      <td>1.415644</td>\n",
       "      <td>1.724386</td>\n",
       "      <td>-0.584087</td>\n",
       "    </tr>\n",
       "    <tr>\n",
       "      <th>4</th>\n",
       "      <td>1.460236</td>\n",
       "      <td>1.515922</td>\n",
       "      <td>-1.776305</td>\n",
       "    </tr>\n",
       "    <tr>\n",
       "      <th>...</th>\n",
       "      <td>...</td>\n",
       "      <td>...</td>\n",
       "      <td>...</td>\n",
       "    </tr>\n",
       "    <tr>\n",
       "      <th>125515</th>\n",
       "      <td>-1.897623</td>\n",
       "      <td>0.476861</td>\n",
       "      <td>1.353268</td>\n",
       "    </tr>\n",
       "    <tr>\n",
       "      <th>125516</th>\n",
       "      <td>-1.836644</td>\n",
       "      <td>0.007297</td>\n",
       "      <td>1.353268</td>\n",
       "    </tr>\n",
       "    <tr>\n",
       "      <th>125517</th>\n",
       "      <td>-2.061362</td>\n",
       "      <td>-0.035291</td>\n",
       "      <td>-0.435059</td>\n",
       "    </tr>\n",
       "    <tr>\n",
       "      <th>125518</th>\n",
       "      <td>-1.830998</td>\n",
       "      <td>-0.941885</td>\n",
       "      <td>1.353268</td>\n",
       "    </tr>\n",
       "    <tr>\n",
       "      <th>125519</th>\n",
       "      <td>-1.832127</td>\n",
       "      <td>-0.981675</td>\n",
       "      <td>1.353268</td>\n",
       "    </tr>\n",
       "  </tbody>\n",
       "</table>\n",
       "<p>125520 rows × 3 columns</p>\n",
       "</div>"
      ],
      "text/plain": [
       "          Item_W  Item_MRP  Outlet_Year\n",
       "0       1.410465  0.792848     0.608131\n",
       "1       1.427374 -0.022995    -1.925332\n",
       "2       1.377664  0.927642    -0.137005\n",
       "3       1.415644  1.724386    -0.584087\n",
       "4       1.460236  1.515922    -1.776305\n",
       "...          ...       ...          ...\n",
       "125515 -1.897623  0.476861     1.353268\n",
       "125516 -1.836644  0.007297     1.353268\n",
       "125517 -2.061362 -0.035291    -0.435059\n",
       "125518 -1.830998 -0.941885     1.353268\n",
       "125519 -1.832127 -0.981675     1.353268\n",
       "\n",
       "[125520 rows x 3 columns]"
      ]
     },
     "execution_count": 124,
     "metadata": {},
     "output_type": "execute_result"
    }
   ],
   "source": [
    "preprocess_numeric_data_columns"
   ]
  },
  {
   "cell_type": "code",
   "execution_count": 125,
   "id": "586aa0fd",
   "metadata": {},
   "outputs": [
    {
     "data": {
      "text/plain": [
       "Item_W         0\n",
       "Item_MRP       0\n",
       "Outlet_Year    0\n",
       "dtype: int64"
      ]
     },
     "execution_count": 125,
     "metadata": {},
     "output_type": "execute_result"
    }
   ],
   "source": [
    "preprocess_numeric_data_columns.isna().sum()"
   ]
  },
  {
   "cell_type": "code",
   "execution_count": 130,
   "id": "fd8c185e",
   "metadata": {},
   "outputs": [],
   "source": [
    "final_preprocessed_data = pd.concat([preprocess_category_data_columns, preprocess_numeric_data_columns,data[[\"Sales\",\"Item_ID\",\"data\"]]], axis = 1)"
   ]
  },
  {
   "cell_type": "code",
   "execution_count": 131,
   "id": "42a9486d",
   "metadata": {},
   "outputs": [
    {
     "data": {
      "text/html": [
       "<div>\n",
       "<style scoped>\n",
       "    .dataframe tbody tr th:only-of-type {\n",
       "        vertical-align: middle;\n",
       "    }\n",
       "\n",
       "    .dataframe tbody tr th {\n",
       "        vertical-align: top;\n",
       "    }\n",
       "\n",
       "    .dataframe thead th {\n",
       "        text-align: right;\n",
       "    }\n",
       "</style>\n",
       "<table border=\"1\" class=\"dataframe\">\n",
       "  <thead>\n",
       "    <tr style=\"text-align: right;\">\n",
       "      <th></th>\n",
       "      <th>Item_Type_Baking Goods</th>\n",
       "      <th>Item_Type_Breads</th>\n",
       "      <th>Item_Type_Breakfast</th>\n",
       "      <th>Item_Type_Canned</th>\n",
       "      <th>Item_Type_Dairy</th>\n",
       "      <th>Item_Type_Frozen Foods</th>\n",
       "      <th>Item_Type_Fruits and Vegetables</th>\n",
       "      <th>Item_Type_Hard Drinks</th>\n",
       "      <th>Item_Type_Health and Hygiene</th>\n",
       "      <th>Item_Type_Household</th>\n",
       "      <th>...</th>\n",
       "      <th>Outlet_Size_Small</th>\n",
       "      <th>Outlet_Location_Type_Tier 1</th>\n",
       "      <th>Outlet_Location_Type_Tier 2</th>\n",
       "      <th>Outlet_Location_Type_Tier 3</th>\n",
       "      <th>Item_W</th>\n",
       "      <th>Item_MRP</th>\n",
       "      <th>Outlet_Year</th>\n",
       "      <th>Sales</th>\n",
       "      <th>Item_ID</th>\n",
       "      <th>data</th>\n",
       "    </tr>\n",
       "  </thead>\n",
       "  <tbody>\n",
       "    <tr>\n",
       "      <th>0</th>\n",
       "      <td>1</td>\n",
       "      <td>0</td>\n",
       "      <td>0</td>\n",
       "      <td>0</td>\n",
       "      <td>0</td>\n",
       "      <td>0</td>\n",
       "      <td>0</td>\n",
       "      <td>0</td>\n",
       "      <td>0</td>\n",
       "      <td>0</td>\n",
       "      <td>...</td>\n",
       "      <td>1</td>\n",
       "      <td>0</td>\n",
       "      <td>1</td>\n",
       "      <td>0</td>\n",
       "      <td>1.410465</td>\n",
       "      <td>0.792848</td>\n",
       "      <td>0.608131</td>\n",
       "      <td>2689.457781</td>\n",
       "      <td>FDU32</td>\n",
       "      <td>train</td>\n",
       "    </tr>\n",
       "    <tr>\n",
       "      <th>1</th>\n",
       "      <td>0</td>\n",
       "      <td>0</td>\n",
       "      <td>0</td>\n",
       "      <td>0</td>\n",
       "      <td>0</td>\n",
       "      <td>0</td>\n",
       "      <td>0</td>\n",
       "      <td>0</td>\n",
       "      <td>0</td>\n",
       "      <td>0</td>\n",
       "      <td>...</td>\n",
       "      <td>1</td>\n",
       "      <td>1</td>\n",
       "      <td>0</td>\n",
       "      <td>0</td>\n",
       "      <td>1.427374</td>\n",
       "      <td>-0.022995</td>\n",
       "      <td>-1.925332</td>\n",
       "      <td>3437.350375</td>\n",
       "      <td>NCT54</td>\n",
       "      <td>train</td>\n",
       "    </tr>\n",
       "    <tr>\n",
       "      <th>2</th>\n",
       "      <td>0</td>\n",
       "      <td>0</td>\n",
       "      <td>0</td>\n",
       "      <td>0</td>\n",
       "      <td>0</td>\n",
       "      <td>0</td>\n",
       "      <td>0</td>\n",
       "      <td>1</td>\n",
       "      <td>0</td>\n",
       "      <td>0</td>\n",
       "      <td>...</td>\n",
       "      <td>1</td>\n",
       "      <td>0</td>\n",
       "      <td>0</td>\n",
       "      <td>1</td>\n",
       "      <td>1.377664</td>\n",
       "      <td>0.927642</td>\n",
       "      <td>-0.137005</td>\n",
       "      <td>3129.967268</td>\n",
       "      <td>FDW08</td>\n",
       "      <td>train</td>\n",
       "    </tr>\n",
       "    <tr>\n",
       "      <th>3</th>\n",
       "      <td>0</td>\n",
       "      <td>0</td>\n",
       "      <td>0</td>\n",
       "      <td>0</td>\n",
       "      <td>0</td>\n",
       "      <td>0</td>\n",
       "      <td>0</td>\n",
       "      <td>0</td>\n",
       "      <td>0</td>\n",
       "      <td>0</td>\n",
       "      <td>...</td>\n",
       "      <td>1</td>\n",
       "      <td>1</td>\n",
       "      <td>0</td>\n",
       "      <td>0</td>\n",
       "      <td>1.415644</td>\n",
       "      <td>1.724386</td>\n",
       "      <td>-0.584087</td>\n",
       "      <td>1306.514376</td>\n",
       "      <td>FDJ22</td>\n",
       "      <td>train</td>\n",
       "    </tr>\n",
       "    <tr>\n",
       "      <th>4</th>\n",
       "      <td>1</td>\n",
       "      <td>0</td>\n",
       "      <td>0</td>\n",
       "      <td>0</td>\n",
       "      <td>0</td>\n",
       "      <td>0</td>\n",
       "      <td>0</td>\n",
       "      <td>0</td>\n",
       "      <td>0</td>\n",
       "      <td>0</td>\n",
       "      <td>...</td>\n",
       "      <td>1</td>\n",
       "      <td>0</td>\n",
       "      <td>0</td>\n",
       "      <td>1</td>\n",
       "      <td>1.460236</td>\n",
       "      <td>1.515922</td>\n",
       "      <td>-1.776305</td>\n",
       "      <td>1739.769829</td>\n",
       "      <td>FDF47</td>\n",
       "      <td>train</td>\n",
       "    </tr>\n",
       "    <tr>\n",
       "      <th>...</th>\n",
       "      <td>...</td>\n",
       "      <td>...</td>\n",
       "      <td>...</td>\n",
       "      <td>...</td>\n",
       "      <td>...</td>\n",
       "      <td>...</td>\n",
       "      <td>...</td>\n",
       "      <td>...</td>\n",
       "      <td>...</td>\n",
       "      <td>...</td>\n",
       "      <td>...</td>\n",
       "      <td>...</td>\n",
       "      <td>...</td>\n",
       "      <td>...</td>\n",
       "      <td>...</td>\n",
       "      <td>...</td>\n",
       "      <td>...</td>\n",
       "      <td>...</td>\n",
       "      <td>...</td>\n",
       "      <td>...</td>\n",
       "      <td>...</td>\n",
       "    </tr>\n",
       "    <tr>\n",
       "      <th>125515</th>\n",
       "      <td>0</td>\n",
       "      <td>0</td>\n",
       "      <td>0</td>\n",
       "      <td>0</td>\n",
       "      <td>1</td>\n",
       "      <td>0</td>\n",
       "      <td>0</td>\n",
       "      <td>0</td>\n",
       "      <td>0</td>\n",
       "      <td>0</td>\n",
       "      <td>...</td>\n",
       "      <td>0</td>\n",
       "      <td>0</td>\n",
       "      <td>0</td>\n",
       "      <td>1</td>\n",
       "      <td>-1.897623</td>\n",
       "      <td>0.476861</td>\n",
       "      <td>1.353268</td>\n",
       "      <td>NaN</td>\n",
       "      <td>FDY27</td>\n",
       "      <td>test</td>\n",
       "    </tr>\n",
       "    <tr>\n",
       "      <th>125516</th>\n",
       "      <td>0</td>\n",
       "      <td>0</td>\n",
       "      <td>0</td>\n",
       "      <td>1</td>\n",
       "      <td>0</td>\n",
       "      <td>0</td>\n",
       "      <td>0</td>\n",
       "      <td>0</td>\n",
       "      <td>0</td>\n",
       "      <td>0</td>\n",
       "      <td>...</td>\n",
       "      <td>0</td>\n",
       "      <td>0</td>\n",
       "      <td>0</td>\n",
       "      <td>1</td>\n",
       "      <td>-1.836644</td>\n",
       "      <td>0.007297</td>\n",
       "      <td>1.353268</td>\n",
       "      <td>NaN</td>\n",
       "      <td>FDK38</td>\n",
       "      <td>test</td>\n",
       "    </tr>\n",
       "    <tr>\n",
       "      <th>125517</th>\n",
       "      <td>0</td>\n",
       "      <td>0</td>\n",
       "      <td>0</td>\n",
       "      <td>0</td>\n",
       "      <td>0</td>\n",
       "      <td>0</td>\n",
       "      <td>0</td>\n",
       "      <td>0</td>\n",
       "      <td>0</td>\n",
       "      <td>0</td>\n",
       "      <td>...</td>\n",
       "      <td>1</td>\n",
       "      <td>1</td>\n",
       "      <td>0</td>\n",
       "      <td>0</td>\n",
       "      <td>-2.061362</td>\n",
       "      <td>-0.035291</td>\n",
       "      <td>-0.435059</td>\n",
       "      <td>NaN</td>\n",
       "      <td>DRF01</td>\n",
       "      <td>test</td>\n",
       "    </tr>\n",
       "    <tr>\n",
       "      <th>125518</th>\n",
       "      <td>0</td>\n",
       "      <td>0</td>\n",
       "      <td>0</td>\n",
       "      <td>0</td>\n",
       "      <td>0</td>\n",
       "      <td>0</td>\n",
       "      <td>0</td>\n",
       "      <td>0</td>\n",
       "      <td>0</td>\n",
       "      <td>0</td>\n",
       "      <td>...</td>\n",
       "      <td>0</td>\n",
       "      <td>0</td>\n",
       "      <td>0</td>\n",
       "      <td>1</td>\n",
       "      <td>-1.830998</td>\n",
       "      <td>-0.941885</td>\n",
       "      <td>1.353268</td>\n",
       "      <td>NaN</td>\n",
       "      <td>FDR58</td>\n",
       "      <td>test</td>\n",
       "    </tr>\n",
       "    <tr>\n",
       "      <th>125519</th>\n",
       "      <td>0</td>\n",
       "      <td>0</td>\n",
       "      <td>0</td>\n",
       "      <td>0</td>\n",
       "      <td>0</td>\n",
       "      <td>0</td>\n",
       "      <td>0</td>\n",
       "      <td>0</td>\n",
       "      <td>0</td>\n",
       "      <td>0</td>\n",
       "      <td>...</td>\n",
       "      <td>0</td>\n",
       "      <td>0</td>\n",
       "      <td>0</td>\n",
       "      <td>1</td>\n",
       "      <td>-1.832127</td>\n",
       "      <td>-0.981675</td>\n",
       "      <td>1.353268</td>\n",
       "      <td>NaN</td>\n",
       "      <td>FDS33</td>\n",
       "      <td>test</td>\n",
       "    </tr>\n",
       "  </tbody>\n",
       "</table>\n",
       "<p>125520 rows × 33 columns</p>\n",
       "</div>"
      ],
      "text/plain": [
       "        Item_Type_Baking Goods  Item_Type_Breads  Item_Type_Breakfast  \\\n",
       "0                            1                 0                    0   \n",
       "1                            0                 0                    0   \n",
       "2                            0                 0                    0   \n",
       "3                            0                 0                    0   \n",
       "4                            1                 0                    0   \n",
       "...                        ...               ...                  ...   \n",
       "125515                       0                 0                    0   \n",
       "125516                       0                 0                    0   \n",
       "125517                       0                 0                    0   \n",
       "125518                       0                 0                    0   \n",
       "125519                       0                 0                    0   \n",
       "\n",
       "        Item_Type_Canned  Item_Type_Dairy  Item_Type_Frozen Foods  \\\n",
       "0                      0                0                       0   \n",
       "1                      0                0                       0   \n",
       "2                      0                0                       0   \n",
       "3                      0                0                       0   \n",
       "4                      0                0                       0   \n",
       "...                  ...              ...                     ...   \n",
       "125515                 0                1                       0   \n",
       "125516                 1                0                       0   \n",
       "125517                 0                0                       0   \n",
       "125518                 0                0                       0   \n",
       "125519                 0                0                       0   \n",
       "\n",
       "        Item_Type_Fruits and Vegetables  Item_Type_Hard Drinks  \\\n",
       "0                                     0                      0   \n",
       "1                                     0                      0   \n",
       "2                                     0                      1   \n",
       "3                                     0                      0   \n",
       "4                                     0                      0   \n",
       "...                                 ...                    ...   \n",
       "125515                                0                      0   \n",
       "125516                                0                      0   \n",
       "125517                                0                      0   \n",
       "125518                                0                      0   \n",
       "125519                                0                      0   \n",
       "\n",
       "        Item_Type_Health and Hygiene  Item_Type_Household  ...  \\\n",
       "0                                  0                    0  ...   \n",
       "1                                  0                    0  ...   \n",
       "2                                  0                    0  ...   \n",
       "3                                  0                    0  ...   \n",
       "4                                  0                    0  ...   \n",
       "...                              ...                  ...  ...   \n",
       "125515                             0                    0  ...   \n",
       "125516                             0                    0  ...   \n",
       "125517                             0                    0  ...   \n",
       "125518                             0                    0  ...   \n",
       "125519                             0                    0  ...   \n",
       "\n",
       "        Outlet_Size_Small  Outlet_Location_Type_Tier 1  \\\n",
       "0                       1                            0   \n",
       "1                       1                            1   \n",
       "2                       1                            0   \n",
       "3                       1                            1   \n",
       "4                       1                            0   \n",
       "...                   ...                          ...   \n",
       "125515                  0                            0   \n",
       "125516                  0                            0   \n",
       "125517                  1                            1   \n",
       "125518                  0                            0   \n",
       "125519                  0                            0   \n",
       "\n",
       "        Outlet_Location_Type_Tier 2  Outlet_Location_Type_Tier 3    Item_W  \\\n",
       "0                                 1                            0  1.410465   \n",
       "1                                 0                            0  1.427374   \n",
       "2                                 0                            1  1.377664   \n",
       "3                                 0                            0  1.415644   \n",
       "4                                 0                            1  1.460236   \n",
       "...                             ...                          ...       ...   \n",
       "125515                            0                            1 -1.897623   \n",
       "125516                            0                            1 -1.836644   \n",
       "125517                            0                            0 -2.061362   \n",
       "125518                            0                            1 -1.830998   \n",
       "125519                            0                            1 -1.832127   \n",
       "\n",
       "        Item_MRP  Outlet_Year        Sales  Item_ID   data  \n",
       "0       0.792848     0.608131  2689.457781    FDU32  train  \n",
       "1      -0.022995    -1.925332  3437.350375    NCT54  train  \n",
       "2       0.927642    -0.137005  3129.967268    FDW08  train  \n",
       "3       1.724386    -0.584087  1306.514376    FDJ22  train  \n",
       "4       1.515922    -1.776305  1739.769829    FDF47  train  \n",
       "...          ...          ...          ...      ...    ...  \n",
       "125515  0.476861     1.353268          NaN    FDY27   test  \n",
       "125516  0.007297     1.353268          NaN    FDK38   test  \n",
       "125517 -0.035291    -0.435059          NaN    DRF01   test  \n",
       "125518 -0.941885     1.353268          NaN    FDR58   test  \n",
       "125519 -0.981675     1.353268          NaN    FDS33   test  \n",
       "\n",
       "[125520 rows x 33 columns]"
      ]
     },
     "execution_count": 131,
     "metadata": {},
     "output_type": "execute_result"
    }
   ],
   "source": [
    "final_preprocessed_data"
   ]
  },
  {
   "cell_type": "code",
   "execution_count": 132,
   "id": "5602b752",
   "metadata": {},
   "outputs": [],
   "source": [
    "train_preprocessed = final_preprocessed_data[final_preprocessed_data[\"data\"]==\"train\"]"
   ]
  },
  {
   "cell_type": "code",
   "execution_count": 133,
   "id": "2d2fc387",
   "metadata": {},
   "outputs": [],
   "source": [
    "test_preprocessed = final_preprocessed_data[final_preprocessed_data[\"data\"]==\"test\"]"
   ]
  },
  {
   "cell_type": "code",
   "execution_count": 135,
   "id": "eb7b0829",
   "metadata": {},
   "outputs": [],
   "source": [
    "train_preprocessed = train_preprocessed.drop(columns = [\"data\"])"
   ]
  },
  {
   "cell_type": "code",
   "execution_count": 134,
   "id": "8e0fd787",
   "metadata": {},
   "outputs": [],
   "source": [
    "test_preprocessed = test_preprocessed.drop(columns = [\"data\",\"Sales\"])"
   ]
  },
  {
   "cell_type": "code",
   "execution_count": 136,
   "id": "45404f56",
   "metadata": {},
   "outputs": [
    {
     "data": {
      "text/html": [
       "<div>\n",
       "<style scoped>\n",
       "    .dataframe tbody tr th:only-of-type {\n",
       "        vertical-align: middle;\n",
       "    }\n",
       "\n",
       "    .dataframe tbody tr th {\n",
       "        vertical-align: top;\n",
       "    }\n",
       "\n",
       "    .dataframe thead th {\n",
       "        text-align: right;\n",
       "    }\n",
       "</style>\n",
       "<table border=\"1\" class=\"dataframe\">\n",
       "  <thead>\n",
       "    <tr style=\"text-align: right;\">\n",
       "      <th></th>\n",
       "      <th>Item_Type_Baking Goods</th>\n",
       "      <th>Item_Type_Breads</th>\n",
       "      <th>Item_Type_Breakfast</th>\n",
       "      <th>Item_Type_Canned</th>\n",
       "      <th>Item_Type_Dairy</th>\n",
       "      <th>Item_Type_Frozen Foods</th>\n",
       "      <th>Item_Type_Fruits and Vegetables</th>\n",
       "      <th>Item_Type_Hard Drinks</th>\n",
       "      <th>Item_Type_Health and Hygiene</th>\n",
       "      <th>Item_Type_Household</th>\n",
       "      <th>...</th>\n",
       "      <th>Outlet_Size_Medium</th>\n",
       "      <th>Outlet_Size_Small</th>\n",
       "      <th>Outlet_Location_Type_Tier 1</th>\n",
       "      <th>Outlet_Location_Type_Tier 2</th>\n",
       "      <th>Outlet_Location_Type_Tier 3</th>\n",
       "      <th>Item_W</th>\n",
       "      <th>Item_MRP</th>\n",
       "      <th>Outlet_Year</th>\n",
       "      <th>Sales</th>\n",
       "      <th>Item_ID</th>\n",
       "    </tr>\n",
       "  </thead>\n",
       "  <tbody>\n",
       "    <tr>\n",
       "      <th>0</th>\n",
       "      <td>1</td>\n",
       "      <td>0</td>\n",
       "      <td>0</td>\n",
       "      <td>0</td>\n",
       "      <td>0</td>\n",
       "      <td>0</td>\n",
       "      <td>0</td>\n",
       "      <td>0</td>\n",
       "      <td>0</td>\n",
       "      <td>0</td>\n",
       "      <td>...</td>\n",
       "      <td>0</td>\n",
       "      <td>1</td>\n",
       "      <td>0</td>\n",
       "      <td>1</td>\n",
       "      <td>0</td>\n",
       "      <td>1.410465</td>\n",
       "      <td>0.792848</td>\n",
       "      <td>0.608131</td>\n",
       "      <td>2689.457781</td>\n",
       "      <td>FDU32</td>\n",
       "    </tr>\n",
       "    <tr>\n",
       "      <th>1</th>\n",
       "      <td>0</td>\n",
       "      <td>0</td>\n",
       "      <td>0</td>\n",
       "      <td>0</td>\n",
       "      <td>0</td>\n",
       "      <td>0</td>\n",
       "      <td>0</td>\n",
       "      <td>0</td>\n",
       "      <td>0</td>\n",
       "      <td>0</td>\n",
       "      <td>...</td>\n",
       "      <td>0</td>\n",
       "      <td>1</td>\n",
       "      <td>1</td>\n",
       "      <td>0</td>\n",
       "      <td>0</td>\n",
       "      <td>1.427374</td>\n",
       "      <td>-0.022995</td>\n",
       "      <td>-1.925332</td>\n",
       "      <td>3437.350375</td>\n",
       "      <td>NCT54</td>\n",
       "    </tr>\n",
       "    <tr>\n",
       "      <th>2</th>\n",
       "      <td>0</td>\n",
       "      <td>0</td>\n",
       "      <td>0</td>\n",
       "      <td>0</td>\n",
       "      <td>0</td>\n",
       "      <td>0</td>\n",
       "      <td>0</td>\n",
       "      <td>1</td>\n",
       "      <td>0</td>\n",
       "      <td>0</td>\n",
       "      <td>...</td>\n",
       "      <td>0</td>\n",
       "      <td>1</td>\n",
       "      <td>0</td>\n",
       "      <td>0</td>\n",
       "      <td>1</td>\n",
       "      <td>1.377664</td>\n",
       "      <td>0.927642</td>\n",
       "      <td>-0.137005</td>\n",
       "      <td>3129.967268</td>\n",
       "      <td>FDW08</td>\n",
       "    </tr>\n",
       "    <tr>\n",
       "      <th>3</th>\n",
       "      <td>0</td>\n",
       "      <td>0</td>\n",
       "      <td>0</td>\n",
       "      <td>0</td>\n",
       "      <td>0</td>\n",
       "      <td>0</td>\n",
       "      <td>0</td>\n",
       "      <td>0</td>\n",
       "      <td>0</td>\n",
       "      <td>0</td>\n",
       "      <td>...</td>\n",
       "      <td>0</td>\n",
       "      <td>1</td>\n",
       "      <td>1</td>\n",
       "      <td>0</td>\n",
       "      <td>0</td>\n",
       "      <td>1.415644</td>\n",
       "      <td>1.724386</td>\n",
       "      <td>-0.584087</td>\n",
       "      <td>1306.514376</td>\n",
       "      <td>FDJ22</td>\n",
       "    </tr>\n",
       "    <tr>\n",
       "      <th>4</th>\n",
       "      <td>1</td>\n",
       "      <td>0</td>\n",
       "      <td>0</td>\n",
       "      <td>0</td>\n",
       "      <td>0</td>\n",
       "      <td>0</td>\n",
       "      <td>0</td>\n",
       "      <td>0</td>\n",
       "      <td>0</td>\n",
       "      <td>0</td>\n",
       "      <td>...</td>\n",
       "      <td>0</td>\n",
       "      <td>1</td>\n",
       "      <td>0</td>\n",
       "      <td>0</td>\n",
       "      <td>1</td>\n",
       "      <td>1.460236</td>\n",
       "      <td>1.515922</td>\n",
       "      <td>-1.776305</td>\n",
       "      <td>1739.769829</td>\n",
       "      <td>FDF47</td>\n",
       "    </tr>\n",
       "    <tr>\n",
       "      <th>...</th>\n",
       "      <td>...</td>\n",
       "      <td>...</td>\n",
       "      <td>...</td>\n",
       "      <td>...</td>\n",
       "      <td>...</td>\n",
       "      <td>...</td>\n",
       "      <td>...</td>\n",
       "      <td>...</td>\n",
       "      <td>...</td>\n",
       "      <td>...</td>\n",
       "      <td>...</td>\n",
       "      <td>...</td>\n",
       "      <td>...</td>\n",
       "      <td>...</td>\n",
       "      <td>...</td>\n",
       "      <td>...</td>\n",
       "      <td>...</td>\n",
       "      <td>...</td>\n",
       "      <td>...</td>\n",
       "      <td>...</td>\n",
       "      <td>...</td>\n",
       "    </tr>\n",
       "    <tr>\n",
       "      <th>87859</th>\n",
       "      <td>0</td>\n",
       "      <td>0</td>\n",
       "      <td>1</td>\n",
       "      <td>0</td>\n",
       "      <td>0</td>\n",
       "      <td>0</td>\n",
       "      <td>0</td>\n",
       "      <td>0</td>\n",
       "      <td>0</td>\n",
       "      <td>0</td>\n",
       "      <td>...</td>\n",
       "      <td>1</td>\n",
       "      <td>0</td>\n",
       "      <td>0</td>\n",
       "      <td>0</td>\n",
       "      <td>1</td>\n",
       "      <td>-1.081320</td>\n",
       "      <td>-0.037290</td>\n",
       "      <td>-1.925332</td>\n",
       "      <td>4975.646052</td>\n",
       "      <td>FDG24</td>\n",
       "    </tr>\n",
       "    <tr>\n",
       "      <th>87860</th>\n",
       "      <td>0</td>\n",
       "      <td>0</td>\n",
       "      <td>0</td>\n",
       "      <td>1</td>\n",
       "      <td>0</td>\n",
       "      <td>0</td>\n",
       "      <td>0</td>\n",
       "      <td>0</td>\n",
       "      <td>0</td>\n",
       "      <td>0</td>\n",
       "      <td>...</td>\n",
       "      <td>1</td>\n",
       "      <td>0</td>\n",
       "      <td>0</td>\n",
       "      <td>1</td>\n",
       "      <td>0</td>\n",
       "      <td>-0.795661</td>\n",
       "      <td>-0.360028</td>\n",
       "      <td>-1.925332</td>\n",
       "      <td>2252.492755</td>\n",
       "      <td>FDA32</td>\n",
       "    </tr>\n",
       "    <tr>\n",
       "      <th>87861</th>\n",
       "      <td>0</td>\n",
       "      <td>0</td>\n",
       "      <td>0</td>\n",
       "      <td>0</td>\n",
       "      <td>0</td>\n",
       "      <td>0</td>\n",
       "      <td>0</td>\n",
       "      <td>0</td>\n",
       "      <td>0</td>\n",
       "      <td>1</td>\n",
       "      <td>...</td>\n",
       "      <td>1</td>\n",
       "      <td>0</td>\n",
       "      <td>1</td>\n",
       "      <td>0</td>\n",
       "      <td>0</td>\n",
       "      <td>-0.767077</td>\n",
       "      <td>-0.508514</td>\n",
       "      <td>-0.435059</td>\n",
       "      <td>2716.058050</td>\n",
       "      <td>FDM04</td>\n",
       "    </tr>\n",
       "    <tr>\n",
       "      <th>87862</th>\n",
       "      <td>0</td>\n",
       "      <td>0</td>\n",
       "      <td>0</td>\n",
       "      <td>0</td>\n",
       "      <td>0</td>\n",
       "      <td>0</td>\n",
       "      <td>0</td>\n",
       "      <td>0</td>\n",
       "      <td>0</td>\n",
       "      <td>1</td>\n",
       "      <td>...</td>\n",
       "      <td>1</td>\n",
       "      <td>0</td>\n",
       "      <td>0</td>\n",
       "      <td>0</td>\n",
       "      <td>1</td>\n",
       "      <td>0.730786</td>\n",
       "      <td>1.225908</td>\n",
       "      <td>-1.776305</td>\n",
       "      <td>991.857233</td>\n",
       "      <td>NCS18</td>\n",
       "    </tr>\n",
       "    <tr>\n",
       "      <th>87863</th>\n",
       "      <td>0</td>\n",
       "      <td>0</td>\n",
       "      <td>0</td>\n",
       "      <td>0</td>\n",
       "      <td>0</td>\n",
       "      <td>0</td>\n",
       "      <td>0</td>\n",
       "      <td>0</td>\n",
       "      <td>0</td>\n",
       "      <td>0</td>\n",
       "      <td>...</td>\n",
       "      <td>1</td>\n",
       "      <td>0</td>\n",
       "      <td>0</td>\n",
       "      <td>0</td>\n",
       "      <td>1</td>\n",
       "      <td>0.530293</td>\n",
       "      <td>-0.106373</td>\n",
       "      <td>-0.435059</td>\n",
       "      <td>4260.617470</td>\n",
       "      <td>FDQ11</td>\n",
       "    </tr>\n",
       "  </tbody>\n",
       "</table>\n",
       "<p>87864 rows × 32 columns</p>\n",
       "</div>"
      ],
      "text/plain": [
       "       Item_Type_Baking Goods  Item_Type_Breads  Item_Type_Breakfast  \\\n",
       "0                           1                 0                    0   \n",
       "1                           0                 0                    0   \n",
       "2                           0                 0                    0   \n",
       "3                           0                 0                    0   \n",
       "4                           1                 0                    0   \n",
       "...                       ...               ...                  ...   \n",
       "87859                       0                 0                    1   \n",
       "87860                       0                 0                    0   \n",
       "87861                       0                 0                    0   \n",
       "87862                       0                 0                    0   \n",
       "87863                       0                 0                    0   \n",
       "\n",
       "       Item_Type_Canned  Item_Type_Dairy  Item_Type_Frozen Foods  \\\n",
       "0                     0                0                       0   \n",
       "1                     0                0                       0   \n",
       "2                     0                0                       0   \n",
       "3                     0                0                       0   \n",
       "4                     0                0                       0   \n",
       "...                 ...              ...                     ...   \n",
       "87859                 0                0                       0   \n",
       "87860                 1                0                       0   \n",
       "87861                 0                0                       0   \n",
       "87862                 0                0                       0   \n",
       "87863                 0                0                       0   \n",
       "\n",
       "       Item_Type_Fruits and Vegetables  Item_Type_Hard Drinks  \\\n",
       "0                                    0                      0   \n",
       "1                                    0                      0   \n",
       "2                                    0                      1   \n",
       "3                                    0                      0   \n",
       "4                                    0                      0   \n",
       "...                                ...                    ...   \n",
       "87859                                0                      0   \n",
       "87860                                0                      0   \n",
       "87861                                0                      0   \n",
       "87862                                0                      0   \n",
       "87863                                0                      0   \n",
       "\n",
       "       Item_Type_Health and Hygiene  Item_Type_Household  ...  \\\n",
       "0                                 0                    0  ...   \n",
       "1                                 0                    0  ...   \n",
       "2                                 0                    0  ...   \n",
       "3                                 0                    0  ...   \n",
       "4                                 0                    0  ...   \n",
       "...                             ...                  ...  ...   \n",
       "87859                             0                    0  ...   \n",
       "87860                             0                    0  ...   \n",
       "87861                             0                    1  ...   \n",
       "87862                             0                    1  ...   \n",
       "87863                             0                    0  ...   \n",
       "\n",
       "       Outlet_Size_Medium  Outlet_Size_Small  Outlet_Location_Type_Tier 1  \\\n",
       "0                       0                  1                            0   \n",
       "1                       0                  1                            1   \n",
       "2                       0                  1                            0   \n",
       "3                       0                  1                            1   \n",
       "4                       0                  1                            0   \n",
       "...                   ...                ...                          ...   \n",
       "87859                   1                  0                            0   \n",
       "87860                   1                  0                            0   \n",
       "87861                   1                  0                            1   \n",
       "87862                   1                  0                            0   \n",
       "87863                   1                  0                            0   \n",
       "\n",
       "       Outlet_Location_Type_Tier 2  Outlet_Location_Type_Tier 3    Item_W  \\\n",
       "0                                1                            0  1.410465   \n",
       "1                                0                            0  1.427374   \n",
       "2                                0                            1  1.377664   \n",
       "3                                0                            0  1.415644   \n",
       "4                                0                            1  1.460236   \n",
       "...                            ...                          ...       ...   \n",
       "87859                            0                            1 -1.081320   \n",
       "87860                            1                            0 -0.795661   \n",
       "87861                            0                            0 -0.767077   \n",
       "87862                            0                            1  0.730786   \n",
       "87863                            0                            1  0.530293   \n",
       "\n",
       "       Item_MRP  Outlet_Year        Sales  Item_ID  \n",
       "0      0.792848     0.608131  2689.457781    FDU32  \n",
       "1     -0.022995    -1.925332  3437.350375    NCT54  \n",
       "2      0.927642    -0.137005  3129.967268    FDW08  \n",
       "3      1.724386    -0.584087  1306.514376    FDJ22  \n",
       "4      1.515922    -1.776305  1739.769829    FDF47  \n",
       "...         ...          ...          ...      ...  \n",
       "87859 -0.037290    -1.925332  4975.646052    FDG24  \n",
       "87860 -0.360028    -1.925332  2252.492755    FDA32  \n",
       "87861 -0.508514    -0.435059  2716.058050    FDM04  \n",
       "87862  1.225908    -1.776305   991.857233    NCS18  \n",
       "87863 -0.106373    -0.435059  4260.617470    FDQ11  \n",
       "\n",
       "[87864 rows x 32 columns]"
      ]
     },
     "execution_count": 136,
     "metadata": {},
     "output_type": "execute_result"
    }
   ],
   "source": [
    "train_preprocessed"
   ]
  },
  {
   "cell_type": "code",
   "execution_count": 137,
   "id": "0ed41212",
   "metadata": {},
   "outputs": [
    {
     "data": {
      "text/html": [
       "<div>\n",
       "<style scoped>\n",
       "    .dataframe tbody tr th:only-of-type {\n",
       "        vertical-align: middle;\n",
       "    }\n",
       "\n",
       "    .dataframe tbody tr th {\n",
       "        vertical-align: top;\n",
       "    }\n",
       "\n",
       "    .dataframe thead th {\n",
       "        text-align: right;\n",
       "    }\n",
       "</style>\n",
       "<table border=\"1\" class=\"dataframe\">\n",
       "  <thead>\n",
       "    <tr style=\"text-align: right;\">\n",
       "      <th></th>\n",
       "      <th>Item_Type_Baking Goods</th>\n",
       "      <th>Item_Type_Breads</th>\n",
       "      <th>Item_Type_Breakfast</th>\n",
       "      <th>Item_Type_Canned</th>\n",
       "      <th>Item_Type_Dairy</th>\n",
       "      <th>Item_Type_Frozen Foods</th>\n",
       "      <th>Item_Type_Fruits and Vegetables</th>\n",
       "      <th>Item_Type_Hard Drinks</th>\n",
       "      <th>Item_Type_Health and Hygiene</th>\n",
       "      <th>Item_Type_Household</th>\n",
       "      <th>...</th>\n",
       "      <th>Outlet_Size_High</th>\n",
       "      <th>Outlet_Size_Medium</th>\n",
       "      <th>Outlet_Size_Small</th>\n",
       "      <th>Outlet_Location_Type_Tier 1</th>\n",
       "      <th>Outlet_Location_Type_Tier 2</th>\n",
       "      <th>Outlet_Location_Type_Tier 3</th>\n",
       "      <th>Item_W</th>\n",
       "      <th>Item_MRP</th>\n",
       "      <th>Outlet_Year</th>\n",
       "      <th>Item_ID</th>\n",
       "    </tr>\n",
       "  </thead>\n",
       "  <tbody>\n",
       "    <tr>\n",
       "      <th>87864</th>\n",
       "      <td>0</td>\n",
       "      <td>0</td>\n",
       "      <td>0</td>\n",
       "      <td>0</td>\n",
       "      <td>0</td>\n",
       "      <td>0</td>\n",
       "      <td>0</td>\n",
       "      <td>0</td>\n",
       "      <td>0</td>\n",
       "      <td>0</td>\n",
       "      <td>...</td>\n",
       "      <td>1</td>\n",
       "      <td>0</td>\n",
       "      <td>0</td>\n",
       "      <td>0</td>\n",
       "      <td>0</td>\n",
       "      <td>1</td>\n",
       "      <td>-1.044663</td>\n",
       "      <td>-0.503686</td>\n",
       "      <td>-0.137005</td>\n",
       "      <td>DRM23</td>\n",
       "    </tr>\n",
       "    <tr>\n",
       "      <th>87865</th>\n",
       "      <td>0</td>\n",
       "      <td>0</td>\n",
       "      <td>0</td>\n",
       "      <td>0</td>\n",
       "      <td>0</td>\n",
       "      <td>0</td>\n",
       "      <td>0</td>\n",
       "      <td>0</td>\n",
       "      <td>0</td>\n",
       "      <td>1</td>\n",
       "      <td>...</td>\n",
       "      <td>1</td>\n",
       "      <td>0</td>\n",
       "      <td>0</td>\n",
       "      <td>0</td>\n",
       "      <td>0</td>\n",
       "      <td>1</td>\n",
       "      <td>-0.981945</td>\n",
       "      <td>1.893577</td>\n",
       "      <td>-1.925332</td>\n",
       "      <td>FDG47</td>\n",
       "    </tr>\n",
       "    <tr>\n",
       "      <th>87866</th>\n",
       "      <td>0</td>\n",
       "      <td>0</td>\n",
       "      <td>0</td>\n",
       "      <td>0</td>\n",
       "      <td>0</td>\n",
       "      <td>0</td>\n",
       "      <td>0</td>\n",
       "      <td>0</td>\n",
       "      <td>1</td>\n",
       "      <td>0</td>\n",
       "      <td>...</td>\n",
       "      <td>1</td>\n",
       "      <td>0</td>\n",
       "      <td>0</td>\n",
       "      <td>1</td>\n",
       "      <td>0</td>\n",
       "      <td>0</td>\n",
       "      <td>-0.638847</td>\n",
       "      <td>1.605909</td>\n",
       "      <td>-0.435059</td>\n",
       "      <td>FDN21</td>\n",
       "    </tr>\n",
       "    <tr>\n",
       "      <th>87867</th>\n",
       "      <td>0</td>\n",
       "      <td>0</td>\n",
       "      <td>0</td>\n",
       "      <td>0</td>\n",
       "      <td>1</td>\n",
       "      <td>0</td>\n",
       "      <td>0</td>\n",
       "      <td>0</td>\n",
       "      <td>0</td>\n",
       "      <td>0</td>\n",
       "      <td>...</td>\n",
       "      <td>0</td>\n",
       "      <td>1</td>\n",
       "      <td>0</td>\n",
       "      <td>0</td>\n",
       "      <td>1</td>\n",
       "      <td>0</td>\n",
       "      <td>0.037554</td>\n",
       "      <td>-0.223204</td>\n",
       "      <td>0.608131</td>\n",
       "      <td>FDZ23</td>\n",
       "    </tr>\n",
       "    <tr>\n",
       "      <th>87868</th>\n",
       "      <td>0</td>\n",
       "      <td>0</td>\n",
       "      <td>0</td>\n",
       "      <td>1</td>\n",
       "      <td>0</td>\n",
       "      <td>0</td>\n",
       "      <td>0</td>\n",
       "      <td>0</td>\n",
       "      <td>0</td>\n",
       "      <td>0</td>\n",
       "      <td>...</td>\n",
       "      <td>0</td>\n",
       "      <td>1</td>\n",
       "      <td>0</td>\n",
       "      <td>0</td>\n",
       "      <td>0</td>\n",
       "      <td>1</td>\n",
       "      <td>-0.836135</td>\n",
       "      <td>0.390649</td>\n",
       "      <td>1.353268</td>\n",
       "      <td>FDC16</td>\n",
       "    </tr>\n",
       "    <tr>\n",
       "      <th>...</th>\n",
       "      <td>...</td>\n",
       "      <td>...</td>\n",
       "      <td>...</td>\n",
       "      <td>...</td>\n",
       "      <td>...</td>\n",
       "      <td>...</td>\n",
       "      <td>...</td>\n",
       "      <td>...</td>\n",
       "      <td>...</td>\n",
       "      <td>...</td>\n",
       "      <td>...</td>\n",
       "      <td>...</td>\n",
       "      <td>...</td>\n",
       "      <td>...</td>\n",
       "      <td>...</td>\n",
       "      <td>...</td>\n",
       "      <td>...</td>\n",
       "      <td>...</td>\n",
       "      <td>...</td>\n",
       "      <td>...</td>\n",
       "      <td>...</td>\n",
       "    </tr>\n",
       "    <tr>\n",
       "      <th>125515</th>\n",
       "      <td>0</td>\n",
       "      <td>0</td>\n",
       "      <td>0</td>\n",
       "      <td>0</td>\n",
       "      <td>1</td>\n",
       "      <td>0</td>\n",
       "      <td>0</td>\n",
       "      <td>0</td>\n",
       "      <td>0</td>\n",
       "      <td>0</td>\n",
       "      <td>...</td>\n",
       "      <td>0</td>\n",
       "      <td>1</td>\n",
       "      <td>0</td>\n",
       "      <td>0</td>\n",
       "      <td>0</td>\n",
       "      <td>1</td>\n",
       "      <td>-1.897623</td>\n",
       "      <td>0.476861</td>\n",
       "      <td>1.353268</td>\n",
       "      <td>FDY27</td>\n",
       "    </tr>\n",
       "    <tr>\n",
       "      <th>125516</th>\n",
       "      <td>0</td>\n",
       "      <td>0</td>\n",
       "      <td>0</td>\n",
       "      <td>1</td>\n",
       "      <td>0</td>\n",
       "      <td>0</td>\n",
       "      <td>0</td>\n",
       "      <td>0</td>\n",
       "      <td>0</td>\n",
       "      <td>0</td>\n",
       "      <td>...</td>\n",
       "      <td>0</td>\n",
       "      <td>1</td>\n",
       "      <td>0</td>\n",
       "      <td>0</td>\n",
       "      <td>0</td>\n",
       "      <td>1</td>\n",
       "      <td>-1.836644</td>\n",
       "      <td>0.007297</td>\n",
       "      <td>1.353268</td>\n",
       "      <td>FDK38</td>\n",
       "    </tr>\n",
       "    <tr>\n",
       "      <th>125517</th>\n",
       "      <td>0</td>\n",
       "      <td>0</td>\n",
       "      <td>0</td>\n",
       "      <td>0</td>\n",
       "      <td>0</td>\n",
       "      <td>0</td>\n",
       "      <td>0</td>\n",
       "      <td>0</td>\n",
       "      <td>0</td>\n",
       "      <td>0</td>\n",
       "      <td>...</td>\n",
       "      <td>0</td>\n",
       "      <td>0</td>\n",
       "      <td>1</td>\n",
       "      <td>1</td>\n",
       "      <td>0</td>\n",
       "      <td>0</td>\n",
       "      <td>-2.061362</td>\n",
       "      <td>-0.035291</td>\n",
       "      <td>-0.435059</td>\n",
       "      <td>DRF01</td>\n",
       "    </tr>\n",
       "    <tr>\n",
       "      <th>125518</th>\n",
       "      <td>0</td>\n",
       "      <td>0</td>\n",
       "      <td>0</td>\n",
       "      <td>0</td>\n",
       "      <td>0</td>\n",
       "      <td>0</td>\n",
       "      <td>0</td>\n",
       "      <td>0</td>\n",
       "      <td>0</td>\n",
       "      <td>0</td>\n",
       "      <td>...</td>\n",
       "      <td>0</td>\n",
       "      <td>1</td>\n",
       "      <td>0</td>\n",
       "      <td>0</td>\n",
       "      <td>0</td>\n",
       "      <td>1</td>\n",
       "      <td>-1.830998</td>\n",
       "      <td>-0.941885</td>\n",
       "      <td>1.353268</td>\n",
       "      <td>FDR58</td>\n",
       "    </tr>\n",
       "    <tr>\n",
       "      <th>125519</th>\n",
       "      <td>0</td>\n",
       "      <td>0</td>\n",
       "      <td>0</td>\n",
       "      <td>0</td>\n",
       "      <td>0</td>\n",
       "      <td>0</td>\n",
       "      <td>0</td>\n",
       "      <td>0</td>\n",
       "      <td>0</td>\n",
       "      <td>0</td>\n",
       "      <td>...</td>\n",
       "      <td>0</td>\n",
       "      <td>1</td>\n",
       "      <td>0</td>\n",
       "      <td>0</td>\n",
       "      <td>0</td>\n",
       "      <td>1</td>\n",
       "      <td>-1.832127</td>\n",
       "      <td>-0.981675</td>\n",
       "      <td>1.353268</td>\n",
       "      <td>FDS33</td>\n",
       "    </tr>\n",
       "  </tbody>\n",
       "</table>\n",
       "<p>37656 rows × 31 columns</p>\n",
       "</div>"
      ],
      "text/plain": [
       "        Item_Type_Baking Goods  Item_Type_Breads  Item_Type_Breakfast  \\\n",
       "87864                        0                 0                    0   \n",
       "87865                        0                 0                    0   \n",
       "87866                        0                 0                    0   \n",
       "87867                        0                 0                    0   \n",
       "87868                        0                 0                    0   \n",
       "...                        ...               ...                  ...   \n",
       "125515                       0                 0                    0   \n",
       "125516                       0                 0                    0   \n",
       "125517                       0                 0                    0   \n",
       "125518                       0                 0                    0   \n",
       "125519                       0                 0                    0   \n",
       "\n",
       "        Item_Type_Canned  Item_Type_Dairy  Item_Type_Frozen Foods  \\\n",
       "87864                  0                0                       0   \n",
       "87865                  0                0                       0   \n",
       "87866                  0                0                       0   \n",
       "87867                  0                1                       0   \n",
       "87868                  1                0                       0   \n",
       "...                  ...              ...                     ...   \n",
       "125515                 0                1                       0   \n",
       "125516                 1                0                       0   \n",
       "125517                 0                0                       0   \n",
       "125518                 0                0                       0   \n",
       "125519                 0                0                       0   \n",
       "\n",
       "        Item_Type_Fruits and Vegetables  Item_Type_Hard Drinks  \\\n",
       "87864                                 0                      0   \n",
       "87865                                 0                      0   \n",
       "87866                                 0                      0   \n",
       "87867                                 0                      0   \n",
       "87868                                 0                      0   \n",
       "...                                 ...                    ...   \n",
       "125515                                0                      0   \n",
       "125516                                0                      0   \n",
       "125517                                0                      0   \n",
       "125518                                0                      0   \n",
       "125519                                0                      0   \n",
       "\n",
       "        Item_Type_Health and Hygiene  Item_Type_Household  ...  \\\n",
       "87864                              0                    0  ...   \n",
       "87865                              0                    1  ...   \n",
       "87866                              1                    0  ...   \n",
       "87867                              0                    0  ...   \n",
       "87868                              0                    0  ...   \n",
       "...                              ...                  ...  ...   \n",
       "125515                             0                    0  ...   \n",
       "125516                             0                    0  ...   \n",
       "125517                             0                    0  ...   \n",
       "125518                             0                    0  ...   \n",
       "125519                             0                    0  ...   \n",
       "\n",
       "        Outlet_Size_High  Outlet_Size_Medium  Outlet_Size_Small  \\\n",
       "87864                  1                   0                  0   \n",
       "87865                  1                   0                  0   \n",
       "87866                  1                   0                  0   \n",
       "87867                  0                   1                  0   \n",
       "87868                  0                   1                  0   \n",
       "...                  ...                 ...                ...   \n",
       "125515                 0                   1                  0   \n",
       "125516                 0                   1                  0   \n",
       "125517                 0                   0                  1   \n",
       "125518                 0                   1                  0   \n",
       "125519                 0                   1                  0   \n",
       "\n",
       "        Outlet_Location_Type_Tier 1  Outlet_Location_Type_Tier 2  \\\n",
       "87864                             0                            0   \n",
       "87865                             0                            0   \n",
       "87866                             1                            0   \n",
       "87867                             0                            1   \n",
       "87868                             0                            0   \n",
       "...                             ...                          ...   \n",
       "125515                            0                            0   \n",
       "125516                            0                            0   \n",
       "125517                            1                            0   \n",
       "125518                            0                            0   \n",
       "125519                            0                            0   \n",
       "\n",
       "        Outlet_Location_Type_Tier 3    Item_W  Item_MRP  Outlet_Year  Item_ID  \n",
       "87864                             1 -1.044663 -0.503686    -0.137005    DRM23  \n",
       "87865                             1 -0.981945  1.893577    -1.925332    FDG47  \n",
       "87866                             0 -0.638847  1.605909    -0.435059    FDN21  \n",
       "87867                             0  0.037554 -0.223204     0.608131    FDZ23  \n",
       "87868                             1 -0.836135  0.390649     1.353268    FDC16  \n",
       "...                             ...       ...       ...          ...      ...  \n",
       "125515                            1 -1.897623  0.476861     1.353268    FDY27  \n",
       "125516                            1 -1.836644  0.007297     1.353268    FDK38  \n",
       "125517                            0 -2.061362 -0.035291    -0.435059    DRF01  \n",
       "125518                            1 -1.830998 -0.941885     1.353268    FDR58  \n",
       "125519                            1 -1.832127 -0.981675     1.353268    FDS33  \n",
       "\n",
       "[37656 rows x 31 columns]"
      ]
     },
     "execution_count": 137,
     "metadata": {},
     "output_type": "execute_result"
    }
   ],
   "source": [
    "test_preprocessed"
   ]
  },
  {
   "cell_type": "markdown",
   "id": "d7f549e1",
   "metadata": {},
   "source": [
    "# Model"
   ]
  },
  {
   "cell_type": "code",
   "execution_count": 138,
   "id": "580f9e67",
   "metadata": {},
   "outputs": [],
   "source": [
    "train_X = train_preprocessed.drop(columns=[\"Sales\",\"Item_ID\"])"
   ]
  },
  {
   "cell_type": "code",
   "execution_count": 139,
   "id": "9e814a05",
   "metadata": {},
   "outputs": [],
   "source": [
    "train_y = train_preprocessed[\"Sales\"]"
   ]
  },
  {
   "cell_type": "code",
   "execution_count": 140,
   "id": "9d32ac12",
   "metadata": {},
   "outputs": [],
   "source": [
    "test_X = test_preprocessed.drop(columns=[\"Item_ID\"])"
   ]
  },
  {
   "cell_type": "code",
   "execution_count": 144,
   "id": "e7e55169",
   "metadata": {},
   "outputs": [],
   "source": [
    "def model_fit(model, train_X, train_y, test_X, submission, filename):\n",
    "    model.fit(train_X, train_y)\n",
    "    train_pred = np.abs(model.predict(train_X))\n",
    "    test_pred = np.abs(model.predict(test_X))\n",
    "    \n",
    "    train_RMSE=mean_squared_error(train_y, train_pred, squared=False)\n",
    "    \n",
    "    print(\"Train RMSE = \",train_RMSE)\n",
    "    submission['Sales'] = np.abs(test_pred)\n",
    "    submission.to_csv(filename, index = False)\n",
    "    return train_RMSE"
   ]
  },
  {
   "cell_type": "code",
   "execution_count": 146,
   "id": "56d6367c",
   "metadata": {},
   "outputs": [],
   "source": [
    "model = [LinearRegression(),Ridge(), Lasso(), ElasticNet(),KNeighborsRegressor(),DecisionTreeRegressor()]"
   ]
  },
  {
   "cell_type": "code",
   "execution_count": 147,
   "id": "a3a7064f",
   "metadata": {},
   "outputs": [
    {
     "name": "stdout",
     "output_type": "stream",
     "text": [
      "LinearRegression()\n",
      "Train RMSE =  1281.7479860421145\n",
      "Ridge()\n",
      "Train RMSE =  1281.6941821036485\n",
      "Lasso()\n",
      "Train RMSE =  1281.8339449183798\n",
      "ElasticNet()\n",
      "Train RMSE =  1285.570437990772\n",
      "KNeighborsRegressor()\n",
      "Train RMSE =  1143.3204409698412\n",
      "DecisionTreeRegressor()\n",
      "Train RMSE =  20.053173508870653\n"
     ]
    }
   ],
   "source": [
    "for i in model:\n",
    "    print(i)\n",
    "    model_fit(i, train_X, train_y, test_X,submission, str(i)[:-2]+\".csv\")\n",
    "   "
   ]
  },
  {
   "cell_type": "code",
   "execution_count": 148,
   "id": "381e1717",
   "metadata": {},
   "outputs": [],
   "source": [
    "def model_fit1(model, train_X, train_y, test_X):\n",
    "    model.fit(train_X, train_y)\n",
    "    train_pred = np.abs(model.predict(train_X))\n",
    "    test_pred = np.abs(model.predict(test_X))\n",
    "    train_RMSE=mean_squared_error(train_y, train_pred, squared=False)\n",
    "    print(model)\n",
    "    print(\"Train RMSE : \",train_RMSE)\n",
    "    return train_RMSE"
   ]
  },
  {
   "cell_type": "code",
   "execution_count": 149,
   "id": "4aa63b3e",
   "metadata": {},
   "outputs": [
    {
     "name": "stdout",
     "output_type": "stream",
     "text": [
      "LinearRegression()\n",
      "Train RMSE :  1281.7479860421145\n",
      "Ridge()\n",
      "Train RMSE :  1281.6941821036485\n",
      "Lasso()\n",
      "Train RMSE :  1281.8339449183798\n",
      "ElasticNet()\n",
      "Train RMSE :  1285.570437990772\n",
      "KNeighborsRegressor()\n",
      "Train RMSE :  1143.3204409698412\n",
      "DecisionTreeRegressor()\n",
      "Train RMSE :  20.053173508870653\n"
     ]
    }
   ],
   "source": [
    "train_RMSE = []\n",
    "for j in model:\n",
    "    trainRMSE = model_fit1(j, train_X, train_y, test_X)\n",
    "    train_RMSE.append(trainRMSE)"
   ]
  },
  {
   "cell_type": "code",
   "execution_count": 150,
   "id": "5574c2a3",
   "metadata": {},
   "outputs": [
    {
     "data": {
      "text/plain": [
       "[1281.7479860421145,\n",
       " 1281.6941821036485,\n",
       " 1281.8339449183798,\n",
       " 1285.570437990772,\n",
       " 1143.3204409698412,\n",
       " 20.053173508870653]"
      ]
     },
     "execution_count": 150,
     "metadata": {},
     "output_type": "execute_result"
    }
   ],
   "source": [
    "train_RMSE "
   ]
  },
  {
   "cell_type": "code",
   "execution_count": 151,
   "id": "b078b7ea",
   "metadata": {},
   "outputs": [],
   "source": [
    "model_name = ['LinearRegression','Ridge', 'Lasso','Elasticnet','KNeighborsRegressor','DecisionTreeRegressor']"
   ]
  },
  {
   "cell_type": "code",
   "execution_count": 152,
   "id": "e7f4c830",
   "metadata": {},
   "outputs": [],
   "source": [
    "result = pd.DataFrame([train_RMSE],columns=model_name).T"
   ]
  },
  {
   "cell_type": "code",
   "execution_count": 153,
   "id": "ecc18f7b",
   "metadata": {},
   "outputs": [],
   "source": [
    "result.columns = ['train RMSE']"
   ]
  },
  {
   "cell_type": "code",
   "execution_count": 154,
   "id": "21a4db11",
   "metadata": {},
   "outputs": [
    {
     "data": {
      "text/html": [
       "<div>\n",
       "<style scoped>\n",
       "    .dataframe tbody tr th:only-of-type {\n",
       "        vertical-align: middle;\n",
       "    }\n",
       "\n",
       "    .dataframe tbody tr th {\n",
       "        vertical-align: top;\n",
       "    }\n",
       "\n",
       "    .dataframe thead th {\n",
       "        text-align: right;\n",
       "    }\n",
       "</style>\n",
       "<table border=\"1\" class=\"dataframe\">\n",
       "  <thead>\n",
       "    <tr style=\"text-align: right;\">\n",
       "      <th></th>\n",
       "      <th>train RMSE</th>\n",
       "    </tr>\n",
       "  </thead>\n",
       "  <tbody>\n",
       "    <tr>\n",
       "      <th>LinearRegression</th>\n",
       "      <td>1281.747986</td>\n",
       "    </tr>\n",
       "    <tr>\n",
       "      <th>Ridge</th>\n",
       "      <td>1281.694182</td>\n",
       "    </tr>\n",
       "    <tr>\n",
       "      <th>Lasso</th>\n",
       "      <td>1281.833945</td>\n",
       "    </tr>\n",
       "    <tr>\n",
       "      <th>Elasticnet</th>\n",
       "      <td>1285.570438</td>\n",
       "    </tr>\n",
       "    <tr>\n",
       "      <th>KNeighborsRegressor</th>\n",
       "      <td>1143.320441</td>\n",
       "    </tr>\n",
       "    <tr>\n",
       "      <th>DecisionTreeRegressor</th>\n",
       "      <td>20.053174</td>\n",
       "    </tr>\n",
       "  </tbody>\n",
       "</table>\n",
       "</div>"
      ],
      "text/plain": [
       "                        train RMSE\n",
       "LinearRegression       1281.747986\n",
       "Ridge                  1281.694182\n",
       "Lasso                  1281.833945\n",
       "Elasticnet             1285.570438\n",
       "KNeighborsRegressor    1143.320441\n",
       "DecisionTreeRegressor    20.053174"
      ]
     },
     "execution_count": 154,
     "metadata": {},
     "output_type": "execute_result"
    }
   ],
   "source": [
    "result"
   ]
  },
  {
   "cell_type": "code",
   "execution_count": 155,
   "id": "4312629e",
   "metadata": {},
   "outputs": [
    {
     "data": {
      "text/plain": [
       "<Figure size 7200x7200 with 0 Axes>"
      ]
     },
     "metadata": {},
     "output_type": "display_data"
    },
    {
     "data": {
      "image/png": "[encoded data removed]",
      "text/plain": [
       "<Figure size 432x288 with 1 Axes>"
      ]
     },
     "metadata": {
      "needs_background": "light"
     },
     "output_type": "display_data"
    }
   ],
   "source": [
    "plt.figure(figsize=(100,100))\n",
    "result.plot(kind = 'bar')\n",
    "plt.xlabel(\"Algorithm\")\n",
    "plt.ylabel(\"RMSE\")\n",
    "plt.show()"
   ]
  },
  {
   "cell_type": "code",
   "execution_count": null,
   "id": "a96204b3",
   "metadata": {},
   "outputs": [
    {
     "name": "stdout",
     "output_type": "stream",
     "text": [
      "1\n",
      "Train RMSE =  20.053173508870653\n",
      "2\n",
      "Train RMSE =  906.171331314634\n",
      "3\n"
     ]
    }
   ],
   "source": [
    "res = []\n",
    "for k in range(1,8):\n",
    "    model = KNeighborsRegressor(n_neighbors=k)\n",
    "    print(k)\n",
    "    err = model_fit(model, train_X,train_y,test_X,submission, str(k)+\"KNN.csv\")\n",
    "    res.append(err)"
   ]
  },
  {
   "cell_type": "markdown",
   "id": "393be84a",
   "metadata": {},
   "source": [
    "![](Result.PNG)"
   ]
  },
  {
   "cell_type": "code",
   "execution_count": null,
   "id": "af1501fe",
   "metadata": {},
   "outputs": [],
   "source": []
  }
 ],
 "metadata": {
  "kernelspec": {
   "display_name": "Python 3 (ipykernel)",
   "language": "python",
   "name": "python3"
  },
  "language_info": {
   "codemirror_mode": {
    "name": "ipython",
    "version": 3
   },
   "file_extension": ".py",
   "mimetype": "text/x-python",
   "name": "python",
   "nbconvert_exporter": "python",
   "pygments_lexer": "ipython3",
   "version": "3.8.11"
  }
 },
 "nbformat": 4,
 "nbformat_minor": 5
}
